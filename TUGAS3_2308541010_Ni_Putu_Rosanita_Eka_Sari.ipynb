{
  "nbformat": 4,
  "nbformat_minor": 0,
  "metadata": {
    "colab": {
      "provenance": []
    },
    "kernelspec": {
      "name": "python3",
      "display_name": "Python 3"
    },
    "language_info": {
      "name": "python"
    }
  },
  "cells": [
    {
      "cell_type": "code",
      "execution_count": 1,
      "metadata": {
        "colab": {
          "base_uri": "https://localhost:8080/"
        },
        "id": "98HiDIRkRDKQ",
        "outputId": "1c170b37-509c-47dc-ec13-8af9d00d8877"
      },
      "outputs": [
        {
          "output_type": "stream",
          "name": "stdout",
          "text": [
            "Ini adalah kalkulator ajib, kamu tinggal memasukan 2 angka dan hasil dari +,-,*,/, dan ** \n",
            "Pilih Menu di Bawah\n",
            "\n",
            "1.Penjumlahan\n",
            "2.Pengurangan\n",
            "3.Perkalian\n",
            "4.Pembagian3\n",
            "Masukan angka 1: 123\n",
            "Masukan angka 2: 12\n",
            "Hasil perkalian 123*12 adalah 1476.0\n"
          ]
        }
      ],
      "source": [
        "print (\"Ini adalah kalkulator ajib, kamu tinggal memasukan 2 angka dan hasil dari +,-,*,/, dan ** \")\n",
        "print (\"Pilih Menu di Bawah\")\n",
        "\n",
        "Menu = input(\"\\n1.Penjumlahan\\n2.Pengurangan\\n3.Perkalian\\n4.Pembagian\")\n",
        "if Menu == \"1\":\n",
        "    a1_10 = input (\"Masukan angka 1: \")\n",
        "    a2_10 = input (\"Masukan angka 2: \")\n",
        "    inc_10 = float(a1_10)+ float(a2_10)\n",
        "    print(f\"Hasil penjumlahan {a1_10}+{a2_10} adalah {inc_10}\")\n",
        "\n",
        "if Menu == \"2\":\n",
        "    a1_10 = input (\"Masukan angka 1: \")\n",
        "    a2_10 = input (\"Masukan angka 2: \")\n",
        "    sub_10 = float(a1_10) - float(a2_10)\n",
        "    print(f\"Hasil pengurangan {a1_10}-{a2_10} adalah {sub_10}\")\n",
        "\n",
        "if Menu == \"3\":\n",
        "    a1_10 = input (\"Masukan angka 1: \")\n",
        "    a2_10 = input (\"Masukan angka 2: \")\n",
        "    multi_10 = float(a1_10) * float(a2_10)\n",
        "    print(f\"Hasil perkalian {a1_10}*{a2_10} adalah {multi_10}\")\n",
        "\n",
        "if Menu == \"4\":\n",
        "    a1_10 = input (\"Masukan angka 1: \")\n",
        "    a2_10 = input (\"Masukan angka 2: \")\n",
        "    bagi_10 = float(a1_10)/float(a2_10)\n",
        "    print(f\"Hasil pembagian {a1_10}\\{a2_10} adalah {bagi_10}\")"
      ]
    },
    {
      "cell_type": "code",
      "source": [
        "opening_10 = (\"HALLO SELAMAT DATANG DALAM PROGRAM TABUNG\")\n",
        "print (opening_10)\n",
        "opening2_10 = (\"Sebelumnya pilih dulu menu ya\")\n",
        "print (opening2_10)\n",
        "\n",
        "Menu = input (\"\\n1.Volume Tabung\\n2.Luas Permukaan Tabung\")\n",
        "if Menu == \"1\":\n",
        "    r_10 = float (input(\"Masukan jari-jari tabung:\"))\n",
        "    t_10 = float (input (\"Masukan tinggi tabung: \"))\n",
        "    V_10 = (22/7* r_10* r_10 * t_10)\n",
        "    print (\"Volume tabung adalah: \", V_10, \" cm^3\")\n",
        "\n",
        "if Menu == \"2\":\n",
        "    r_10 = float (input(\"Masukan jari-jari tabung:\"))\n",
        "    t_10 = float (input (\"Masukan tinggi tabung: \"))\n",
        "    Lp_10 = (2 * 22/7 * r_10) *(r_10+ t_10)\n",
        "    print (\"Luas Permukaan tabung adalah: \", Lp_10, \" cm^2\")"
      ],
      "metadata": {
        "colab": {
          "base_uri": "https://localhost:8080/"
        },
        "id": "b2O6L8cFRNig",
        "outputId": "0bd977e8-ed8a-4acd-a720-faa3da2cefea"
      },
      "execution_count": 2,
      "outputs": [
        {
          "output_type": "stream",
          "name": "stdout",
          "text": [
            "HALLO SELAMAT DATANG DALAM PROGRAM TABUNG\n",
            "Sebelumnya pilih dulu menu ya\n",
            "\n",
            "1.Volume Tabung\n",
            "2.Luas Permukaan Tabung1\n",
            "Masukan jari-jari tabung:7\n",
            "Masukan tinggi tabung: 10\n",
            "Volume tabung adalah:  1540.0  cm^3\n"
          ]
        }
      ]
    },
    {
      "cell_type": "code",
      "source": [
        "print(f\"Bingung perusahaan anda rugi atau mendapatkan laba?ayo cek disini\")\n",
        "\n",
        "pendapatan_10 = int(input(\"Masukkan pemasukan perusahaan Anda: \"))\n",
        "biaya_10 = int(input(\"Masukkan biaya perusahaan Anda: \"))\n",
        "\n",
        "if pendapatan_10 > biaya_10:\n",
        "    print(\"Perusahaan menghasilkan laba.\")\n",
        "elif pendapatan_10 < biaya_10:\n",
        "    print(\"Perusahaan mengalami kerugian.\")\n",
        "else:\n",
        "    print(\"Perusahaan impas (pendapatan sama dengan biaya).\")\n"
      ],
      "metadata": {
        "colab": {
          "base_uri": "https://localhost:8080/"
        },
        "id": "untfwe78Rck0",
        "outputId": "2370bdd3-7f09-4b42-dcc1-903a0215f3e7"
      },
      "execution_count": 3,
      "outputs": [
        {
          "output_type": "stream",
          "name": "stdout",
          "text": [
            "Bingung perusahaan anda rugi atau mendapatkan laba?ayo cek disini\n",
            "Masukkan pemasukan perusahaan Anda: 100000000\n",
            "Masukkan biaya perusahaan Anda: 300000\n",
            "Perusahaan menghasilkan laba.\n"
          ]
        }
      ]
    },
    {
      "cell_type": "code",
      "source": [
        "r_10 = 10\n",
        "while r_10 < 50 :\n",
        "  print (r_10* \"*\")\n",
        "  r_10+=5"
      ],
      "metadata": {
        "colab": {
          "base_uri": "https://localhost:8080/"
        },
        "id": "0Hgf4BW8SiiD",
        "outputId": "09a2c83b-b831-4604-ca1c-010d84803643"
      },
      "execution_count": 5,
      "outputs": [
        {
          "output_type": "stream",
          "name": "stdout",
          "text": [
            "**********\n",
            "***************\n",
            "********************\n",
            "*************************\n",
            "******************************\n",
            "***********************************\n",
            "****************************************\n",
            "*********************************************\n"
          ]
        }
      ]
    },
    {
      "cell_type": "code",
      "source": [
        "r_10 = 3\n",
        "while r_10 < 6 :\n",
        "  print (\"Angka \"+ str(r_10)+ \" masih dibawah 6\")\n",
        "  r_10 +=1"
      ],
      "metadata": {
        "colab": {
          "base_uri": "https://localhost:8080/"
        },
        "id": "szcZ-uekS5CU",
        "outputId": "2c2fc199-79fe-416e-cfde-593ffec32b3b"
      },
      "execution_count": 11,
      "outputs": [
        {
          "output_type": "stream",
          "name": "stdout",
          "text": [
            "Angka 3 masih dibawah 6\n",
            "Angka 4 masih dibawah 6\n",
            "Angka 5 masih dibawah 6\n"
          ]
        }
      ]
    }
  ]
}