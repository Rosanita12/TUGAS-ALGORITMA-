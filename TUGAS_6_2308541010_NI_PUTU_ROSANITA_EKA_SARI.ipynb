{
  "nbformat": 4,
  "nbformat_minor": 0,
  "metadata": {
    "colab": {
      "provenance": []
    },
    "kernelspec": {
      "name": "python3",
      "display_name": "Python 3"
    },
    "language_info": {
      "name": "python"
    }
  },
  "cells": [
    {
      "cell_type": "markdown",
      "source": [
        "2.20 Numpy"
      ],
      "metadata": {
        "id": "dshOdHyjLQWg"
      }
    },
    {
      "cell_type": "code",
      "source": [
        "import numpy as np\n",
        "o_10 = np.array ([2,4,6,8,10,12])\n",
        "print(o_10)\n",
        "print(\"================================\")\n",
        "c_10 = np.array([[4,5,6,7,],[8,7,6,5]])\n",
        "print(c_10)\n",
        "print(\"================================\")\n",
        "a_10 = np.array([[[1,3,6,9],[12,15,18,21]],\n",
        "                 [[24,27,24,21],[18,15,12,9]],\n",
        "                 [[3,6,9,12],[15,18,21,24]]])\n",
        "print(a_10)\n",
        "print(\"================================\")"
      ],
      "metadata": {
        "colab": {
          "base_uri": "https://localhost:8080/"
        },
        "id": "d_j2Dw_aXkqj",
        "outputId": "8d882459-004c-4434-d813-0c7fd5641b51"
      },
      "execution_count": 1,
      "outputs": [
        {
          "output_type": "stream",
          "name": "stdout",
          "text": [
            "[ 2  4  6  8 10 12]\n",
            "================================\n",
            "[[4 5 6 7]\n",
            " [8 7 6 5]]\n",
            "================================\n",
            "[[[ 1  3  6  9]\n",
            "  [12 15 18 21]]\n",
            "\n",
            " [[24 27 24 21]\n",
            "  [18 15 12  9]]\n",
            "\n",
            " [[ 3  6  9 12]\n",
            "  [15 18 21 24]]]\n",
            "================================\n"
          ]
        }
      ]
    },
    {
      "cell_type": "code",
      "source": [
        "o_10.ndim"
      ],
      "metadata": {
        "colab": {
          "base_uri": "https://localhost:8080/"
        },
        "id": "erd6OD4JYFP-",
        "outputId": "269e4c4b-91c2-4987-c562-4cc71dfc345d"
      },
      "execution_count": 2,
      "outputs": [
        {
          "output_type": "execute_result",
          "data": {
            "text/plain": [
              "1"
            ]
          },
          "metadata": {},
          "execution_count": 2
        }
      ]
    },
    {
      "cell_type": "code",
      "source": [
        "o_10.shape"
      ],
      "metadata": {
        "colab": {
          "base_uri": "https://localhost:8080/"
        },
        "id": "59pzEfUtb4xt",
        "outputId": "f63853a1-57a4-4b47-fca5-92d19cdcbb5e"
      },
      "execution_count": 3,
      "outputs": [
        {
          "output_type": "execute_result",
          "data": {
            "text/plain": [
              "(6,)"
            ]
          },
          "metadata": {},
          "execution_count": 3
        }
      ]
    },
    {
      "cell_type": "code",
      "source": [
        "c_10.ndim"
      ],
      "metadata": {
        "colab": {
          "base_uri": "https://localhost:8080/"
        },
        "id": "-zr_SOJKb9A_",
        "outputId": "fbed74b5-fc0b-4564-ecdb-5bcd8cad6a02"
      },
      "execution_count": 4,
      "outputs": [
        {
          "output_type": "execute_result",
          "data": {
            "text/plain": [
              "2"
            ]
          },
          "metadata": {},
          "execution_count": 4
        }
      ]
    },
    {
      "cell_type": "code",
      "source": [
        "c_10.shape"
      ],
      "metadata": {
        "colab": {
          "base_uri": "https://localhost:8080/"
        },
        "id": "W_U1lM3ZcCYQ",
        "outputId": "8c055bdb-d8d4-4538-8466-987f8cf7984d"
      },
      "execution_count": 5,
      "outputs": [
        {
          "output_type": "execute_result",
          "data": {
            "text/plain": [
              "(2, 4)"
            ]
          },
          "metadata": {},
          "execution_count": 5
        }
      ]
    },
    {
      "cell_type": "code",
      "source": [
        "a_10.ndim"
      ],
      "metadata": {
        "colab": {
          "base_uri": "https://localhost:8080/"
        },
        "id": "8zOhkB-qcEWr",
        "outputId": "6dadd021-0984-424f-95d6-d86a4b4fd066"
      },
      "execution_count": 6,
      "outputs": [
        {
          "output_type": "execute_result",
          "data": {
            "text/plain": [
              "3"
            ]
          },
          "metadata": {},
          "execution_count": 6
        }
      ]
    },
    {
      "cell_type": "code",
      "source": [
        "a_10.shape"
      ],
      "metadata": {
        "colab": {
          "base_uri": "https://localhost:8080/"
        },
        "id": "9tDyJvVfcGCV",
        "outputId": "8e66e046-58f6-4fa3-ad35-4234346206ac"
      },
      "execution_count": 7,
      "outputs": [
        {
          "output_type": "execute_result",
          "data": {
            "text/plain": [
              "(3, 2, 4)"
            ]
          },
          "metadata": {},
          "execution_count": 7
        }
      ]
    },
    {
      "cell_type": "code",
      "source": [
        "r_10 = np.array([[4,8,12,16],[20,24,28,32],[36,40,44,48]])\n",
        "print(r_10)"
      ],
      "metadata": {
        "colab": {
          "base_uri": "https://localhost:8080/"
        },
        "id": "fJkUCYNacJhw",
        "outputId": "1e250633-7674-4a63-c5f2-057eea6a01e4"
      },
      "execution_count": 8,
      "outputs": [
        {
          "output_type": "stream",
          "name": "stdout",
          "text": [
            "[[ 4  8 12 16]\n",
            " [20 24 28 32]\n",
            " [36 40 44 48]]\n"
          ]
        }
      ]
    },
    {
      "cell_type": "code",
      "source": [
        "r_10[0,2]"
      ],
      "metadata": {
        "colab": {
          "base_uri": "https://localhost:8080/"
        },
        "id": "lw_rh8E1ejW7",
        "outputId": "754e7920-ab40-4949-f1a8-c038dec6992d"
      },
      "execution_count": 9,
      "outputs": [
        {
          "output_type": "execute_result",
          "data": {
            "text/plain": [
              "12"
            ]
          },
          "metadata": {},
          "execution_count": 9
        }
      ]
    },
    {
      "cell_type": "code",
      "source": [
        "r_10[1,:]"
      ],
      "metadata": {
        "colab": {
          "base_uri": "https://localhost:8080/"
        },
        "id": "ZwsU9vCpejbQ",
        "outputId": "e2814cdb-4ad5-45c3-d6ad-a7c38902eb8d"
      },
      "execution_count": 10,
      "outputs": [
        {
          "output_type": "execute_result",
          "data": {
            "text/plain": [
              "array([20, 24, 28, 32])"
            ]
          },
          "metadata": {},
          "execution_count": 10
        }
      ]
    },
    {
      "cell_type": "code",
      "source": [
        "r_10[:,2]"
      ],
      "metadata": {
        "colab": {
          "base_uri": "https://localhost:8080/"
        },
        "id": "XXzbvFcEestN",
        "outputId": "4d1e606d-6c42-459d-9001-54b24a7e5738"
      },
      "execution_count": 11,
      "outputs": [
        {
          "output_type": "execute_result",
          "data": {
            "text/plain": [
              "array([12, 28, 44])"
            ]
          },
          "metadata": {},
          "execution_count": 11
        }
      ]
    },
    {
      "cell_type": "code",
      "source": [
        "r_10[0,1:3]"
      ],
      "metadata": {
        "colab": {
          "base_uri": "https://localhost:8080/"
        },
        "id": "N6W7lLwce7M0",
        "outputId": "355c9530-a275-4535-9761-4f4210c49d51"
      },
      "execution_count": 12,
      "outputs": [
        {
          "output_type": "execute_result",
          "data": {
            "text/plain": [
              "array([ 8, 12])"
            ]
          },
          "metadata": {},
          "execution_count": 12
        }
      ]
    },
    {
      "cell_type": "code",
      "source": [
        "r_10[0,0:2:2]"
      ],
      "metadata": {
        "colab": {
          "base_uri": "https://localhost:8080/"
        },
        "id": "G4Gzp5eFfAnf",
        "outputId": "32d292da-a7fa-42a7-b0b0-7f4e098949f8"
      },
      "execution_count": 13,
      "outputs": [
        {
          "output_type": "execute_result",
          "data": {
            "text/plain": [
              "array([4])"
            ]
          },
          "metadata": {},
          "execution_count": 13
        }
      ]
    },
    {
      "cell_type": "code",
      "source": [
        "r_10[1,1]=90\n",
        "print(r_10)"
      ],
      "metadata": {
        "colab": {
          "base_uri": "https://localhost:8080/"
        },
        "id": "a5TJoKswfF44",
        "outputId": "822c17dd-5f91-4e8f-fbc9-3e20160114b4"
      },
      "execution_count": 14,
      "outputs": [
        {
          "output_type": "stream",
          "name": "stdout",
          "text": [
            "[[ 4  8 12 16]\n",
            " [20 90 28 32]\n",
            " [36 40 44 48]]\n"
          ]
        }
      ]
    },
    {
      "cell_type": "code",
      "source": [
        "np.ones((4,8))"
      ],
      "metadata": {
        "colab": {
          "base_uri": "https://localhost:8080/"
        },
        "id": "8XvcA5XEg4GJ",
        "outputId": "0eca6825-3391-4402-8b78-1a8da64d4aff"
      },
      "execution_count": 15,
      "outputs": [
        {
          "output_type": "execute_result",
          "data": {
            "text/plain": [
              "array([[1., 1., 1., 1., 1., 1., 1., 1.],\n",
              "       [1., 1., 1., 1., 1., 1., 1., 1.],\n",
              "       [1., 1., 1., 1., 1., 1., 1., 1.],\n",
              "       [1., 1., 1., 1., 1., 1., 1., 1.]])"
            ]
          },
          "metadata": {},
          "execution_count": 15
        }
      ]
    },
    {
      "cell_type": "code",
      "source": [
        "np.zeros((4,8))"
      ],
      "metadata": {
        "colab": {
          "base_uri": "https://localhost:8080/"
        },
        "id": "K9QkoO6pg-8D",
        "outputId": "ae977d16-34e2-43d0-8fdc-d87b8314a056"
      },
      "execution_count": 16,
      "outputs": [
        {
          "output_type": "execute_result",
          "data": {
            "text/plain": [
              "array([[0., 0., 0., 0., 0., 0., 0., 0.],\n",
              "       [0., 0., 0., 0., 0., 0., 0., 0.],\n",
              "       [0., 0., 0., 0., 0., 0., 0., 0.],\n",
              "       [0., 0., 0., 0., 0., 0., 0., 0.]])"
            ]
          },
          "metadata": {},
          "execution_count": 16
        }
      ]
    },
    {
      "cell_type": "code",
      "source": [
        "np.identity(6)"
      ],
      "metadata": {
        "colab": {
          "base_uri": "https://localhost:8080/"
        },
        "id": "924MCG5fhJVu",
        "outputId": "59448940-7cf1-46c0-d9ef-e0fd12bbf11d"
      },
      "execution_count": 17,
      "outputs": [
        {
          "output_type": "execute_result",
          "data": {
            "text/plain": [
              "array([[1., 0., 0., 0., 0., 0.],\n",
              "       [0., 1., 0., 0., 0., 0.],\n",
              "       [0., 0., 1., 0., 0., 0.],\n",
              "       [0., 0., 0., 1., 0., 0.],\n",
              "       [0., 0., 0., 0., 1., 0.],\n",
              "       [0., 0., 0., 0., 0., 1.]])"
            ]
          },
          "metadata": {},
          "execution_count": 17
        }
      ]
    },
    {
      "cell_type": "code",
      "source": [
        "np.ones((2,4,6))"
      ],
      "metadata": {
        "colab": {
          "base_uri": "https://localhost:8080/"
        },
        "id": "aMWMC08OhOXN",
        "outputId": "4328a105-3ea0-44ea-bd66-2536e93fe12d"
      },
      "execution_count": 18,
      "outputs": [
        {
          "output_type": "execute_result",
          "data": {
            "text/plain": [
              "array([[[1., 1., 1., 1., 1., 1.],\n",
              "        [1., 1., 1., 1., 1., 1.],\n",
              "        [1., 1., 1., 1., 1., 1.],\n",
              "        [1., 1., 1., 1., 1., 1.]],\n",
              "\n",
              "       [[1., 1., 1., 1., 1., 1.],\n",
              "        [1., 1., 1., 1., 1., 1.],\n",
              "        [1., 1., 1., 1., 1., 1.],\n",
              "        [1., 1., 1., 1., 1., 1.]]])"
            ]
          },
          "metadata": {},
          "execution_count": 18
        }
      ]
    },
    {
      "cell_type": "code",
      "source": [
        "np.full((3,2),9)"
      ],
      "metadata": {
        "colab": {
          "base_uri": "https://localhost:8080/"
        },
        "id": "gFq_k4TRhUEe",
        "outputId": "d72e24a4-cc93-48c7-9ccb-01f1994a3c75"
      },
      "execution_count": 19,
      "outputs": [
        {
          "output_type": "execute_result",
          "data": {
            "text/plain": [
              "array([[9, 9],\n",
              "       [9, 9],\n",
              "       [9, 9]])"
            ]
          },
          "metadata": {},
          "execution_count": 19
        }
      ]
    },
    {
      "cell_type": "code",
      "source": [
        "np.random.rand(4,3)"
      ],
      "metadata": {
        "colab": {
          "base_uri": "https://localhost:8080/"
        },
        "id": "-QkAH1f5hcLD",
        "outputId": "00d3e09d-98f6-44b4-8eaf-83f166db7ca4"
      },
      "execution_count": 20,
      "outputs": [
        {
          "output_type": "execute_result",
          "data": {
            "text/plain": [
              "array([[0.01114334, 0.50324993, 0.9574065 ],\n",
              "       [0.82986444, 0.96101427, 0.20200935],\n",
              "       [0.09294925, 0.94664249, 0.20734541],\n",
              "       [0.94451615, 0.55443691, 0.42786375]])"
            ]
          },
          "metadata": {},
          "execution_count": 20
        }
      ]
    },
    {
      "cell_type": "code",
      "source": [
        "np.random.randint(1,10,size=(4,4))"
      ],
      "metadata": {
        "colab": {
          "base_uri": "https://localhost:8080/"
        },
        "id": "v_gWGND5hiLZ",
        "outputId": "2640c8f0-131f-4bc5-923b-b588056b9e88"
      },
      "execution_count": 21,
      "outputs": [
        {
          "output_type": "execute_result",
          "data": {
            "text/plain": [
              "array([[1, 7, 5, 3],\n",
              "       [3, 7, 3, 3],\n",
              "       [7, 6, 7, 8],\n",
              "       [2, 5, 4, 3]])"
            ]
          },
          "metadata": {},
          "execution_count": 21
        }
      ]
    },
    {
      "cell_type": "code",
      "source": [
        "r_10 = np.zeros((10,10))\n",
        "print(r_10)\n",
        "print(\"=================================\")\n",
        "o_10 = np.identity(10)\n",
        "print(o_10)\n",
        "print(\"=================================\")\n",
        "s_10 = 9*o_10\n",
        "print(s_10)\n",
        "print(\"=================================\")\n",
        "a_10 = np.ones((8,8))\n",
        "n_10 = np.identity(8)*8\n",
        "i_10 = n_10 + a_10\n",
        "print(i_10)\n",
        "print(\"=================================\")\n",
        "s_10[1:-1,1:-1]\n",
        "print(s_10)\n",
        "print(\"=================================\")\n",
        "t_10 = np.identity(6)*9\n",
        "s_10[2:-2,2:-2] = t_10\n",
        "print(s_10)\n",
        "print(\"=================================\")\n",
        "h_10 = np.ones((4,4))*2\n",
        "j_10 = np.identity(4)*7\n",
        "k_10 = h_10 + j_10\n",
        "print(k_10)\n",
        "print(\"=================================\")\n",
        "s_10[3:-3,3:-3] = k_10\n",
        "print(k_10)\n",
        "print(\"=================================\")\n",
        "\n"
      ],
      "metadata": {
        "colab": {
          "base_uri": "https://localhost:8080/"
        },
        "id": "vzk-nwS9iUMd",
        "outputId": "940246f7-575b-463f-cfb0-460bbf5fe459"
      },
      "execution_count": 22,
      "outputs": [
        {
          "output_type": "stream",
          "name": "stdout",
          "text": [
            "[[0. 0. 0. 0. 0. 0. 0. 0. 0. 0.]\n",
            " [0. 0. 0. 0. 0. 0. 0. 0. 0. 0.]\n",
            " [0. 0. 0. 0. 0. 0. 0. 0. 0. 0.]\n",
            " [0. 0. 0. 0. 0. 0. 0. 0. 0. 0.]\n",
            " [0. 0. 0. 0. 0. 0. 0. 0. 0. 0.]\n",
            " [0. 0. 0. 0. 0. 0. 0. 0. 0. 0.]\n",
            " [0. 0. 0. 0. 0. 0. 0. 0. 0. 0.]\n",
            " [0. 0. 0. 0. 0. 0. 0. 0. 0. 0.]\n",
            " [0. 0. 0. 0. 0. 0. 0. 0. 0. 0.]\n",
            " [0. 0. 0. 0. 0. 0. 0. 0. 0. 0.]]\n",
            "=================================\n",
            "[[1. 0. 0. 0. 0. 0. 0. 0. 0. 0.]\n",
            " [0. 1. 0. 0. 0. 0. 0. 0. 0. 0.]\n",
            " [0. 0. 1. 0. 0. 0. 0. 0. 0. 0.]\n",
            " [0. 0. 0. 1. 0. 0. 0. 0. 0. 0.]\n",
            " [0. 0. 0. 0. 1. 0. 0. 0. 0. 0.]\n",
            " [0. 0. 0. 0. 0. 1. 0. 0. 0. 0.]\n",
            " [0. 0. 0. 0. 0. 0. 1. 0. 0. 0.]\n",
            " [0. 0. 0. 0. 0. 0. 0. 1. 0. 0.]\n",
            " [0. 0. 0. 0. 0. 0. 0. 0. 1. 0.]\n",
            " [0. 0. 0. 0. 0. 0. 0. 0. 0. 1.]]\n",
            "=================================\n",
            "[[9. 0. 0. 0. 0. 0. 0. 0. 0. 0.]\n",
            " [0. 9. 0. 0. 0. 0. 0. 0. 0. 0.]\n",
            " [0. 0. 9. 0. 0. 0. 0. 0. 0. 0.]\n",
            " [0. 0. 0. 9. 0. 0. 0. 0. 0. 0.]\n",
            " [0. 0. 0. 0. 9. 0. 0. 0. 0. 0.]\n",
            " [0. 0. 0. 0. 0. 9. 0. 0. 0. 0.]\n",
            " [0. 0. 0. 0. 0. 0. 9. 0. 0. 0.]\n",
            " [0. 0. 0. 0. 0. 0. 0. 9. 0. 0.]\n",
            " [0. 0. 0. 0. 0. 0. 0. 0. 9. 0.]\n",
            " [0. 0. 0. 0. 0. 0. 0. 0. 0. 9.]]\n",
            "=================================\n",
            "[[9. 1. 1. 1. 1. 1. 1. 1.]\n",
            " [1. 9. 1. 1. 1. 1. 1. 1.]\n",
            " [1. 1. 9. 1. 1. 1. 1. 1.]\n",
            " [1. 1. 1. 9. 1. 1. 1. 1.]\n",
            " [1. 1. 1. 1. 9. 1. 1. 1.]\n",
            " [1. 1. 1. 1. 1. 9. 1. 1.]\n",
            " [1. 1. 1. 1. 1. 1. 9. 1.]\n",
            " [1. 1. 1. 1. 1. 1. 1. 9.]]\n",
            "=================================\n",
            "[[9. 0. 0. 0. 0. 0. 0. 0. 0. 0.]\n",
            " [0. 9. 0. 0. 0. 0. 0. 0. 0. 0.]\n",
            " [0. 0. 9. 0. 0. 0. 0. 0. 0. 0.]\n",
            " [0. 0. 0. 9. 0. 0. 0. 0. 0. 0.]\n",
            " [0. 0. 0. 0. 9. 0. 0. 0. 0. 0.]\n",
            " [0. 0. 0. 0. 0. 9. 0. 0. 0. 0.]\n",
            " [0. 0. 0. 0. 0. 0. 9. 0. 0. 0.]\n",
            " [0. 0. 0. 0. 0. 0. 0. 9. 0. 0.]\n",
            " [0. 0. 0. 0. 0. 0. 0. 0. 9. 0.]\n",
            " [0. 0. 0. 0. 0. 0. 0. 0. 0. 9.]]\n",
            "=================================\n",
            "[[9. 0. 0. 0. 0. 0. 0. 0. 0. 0.]\n",
            " [0. 9. 0. 0. 0. 0. 0. 0. 0. 0.]\n",
            " [0. 0. 9. 0. 0. 0. 0. 0. 0. 0.]\n",
            " [0. 0. 0. 9. 0. 0. 0. 0. 0. 0.]\n",
            " [0. 0. 0. 0. 9. 0. 0. 0. 0. 0.]\n",
            " [0. 0. 0. 0. 0. 9. 0. 0. 0. 0.]\n",
            " [0. 0. 0. 0. 0. 0. 9. 0. 0. 0.]\n",
            " [0. 0. 0. 0. 0. 0. 0. 9. 0. 0.]\n",
            " [0. 0. 0. 0. 0. 0. 0. 0. 9. 0.]\n",
            " [0. 0. 0. 0. 0. 0. 0. 0. 0. 9.]]\n",
            "=================================\n",
            "[[9. 2. 2. 2.]\n",
            " [2. 9. 2. 2.]\n",
            " [2. 2. 9. 2.]\n",
            " [2. 2. 2. 9.]]\n",
            "=================================\n",
            "[[9. 2. 2. 2.]\n",
            " [2. 9. 2. 2.]\n",
            " [2. 2. 9. 2.]\n",
            " [2. 2. 2. 9.]]\n",
            "=================================\n"
          ]
        }
      ]
    },
    {
      "cell_type": "code",
      "source": [
        "#base matriks\n",
        "r_10 = np.zeros((10,10))\n",
        "print(r_10)\n",
        ""
      ],
      "metadata": {
        "id": "_GFwC8saigcl",
        "colab": {
          "base_uri": "https://localhost:8080/"
        },
        "outputId": "54453f9a-0f40-480b-eabb-9ca122d40244"
      },
      "execution_count": 23,
      "outputs": [
        {
          "output_type": "stream",
          "name": "stdout",
          "text": [
            "[[0. 0. 0. 0. 0. 0. 0. 0. 0. 0.]\n",
            " [0. 0. 0. 0. 0. 0. 0. 0. 0. 0.]\n",
            " [0. 0. 0. 0. 0. 0. 0. 0. 0. 0.]\n",
            " [0. 0. 0. 0. 0. 0. 0. 0. 0. 0.]\n",
            " [0. 0. 0. 0. 0. 0. 0. 0. 0. 0.]\n",
            " [0. 0. 0. 0. 0. 0. 0. 0. 0. 0.]\n",
            " [0. 0. 0. 0. 0. 0. 0. 0. 0. 0.]\n",
            " [0. 0. 0. 0. 0. 0. 0. 0. 0. 0.]\n",
            " [0. 0. 0. 0. 0. 0. 0. 0. 0. 0.]\n",
            " [0. 0. 0. 0. 0. 0. 0. 0. 0. 0.]]\n"
          ]
        }
      ]
    },
    {
      "cell_type": "code",
      "source": [
        "#diagonal utama\n",
        "o_10 = np.identity(10)\n",
        "print(o_10)\n",
        ""
      ],
      "metadata": {
        "colab": {
          "base_uri": "https://localhost:8080/"
        },
        "id": "GJejtQFhiXXy",
        "outputId": "cc20fcad-b330-4702-98f6-308268e2c766"
      },
      "execution_count": 25,
      "outputs": [
        {
          "output_type": "stream",
          "name": "stdout",
          "text": [
            "[[1. 0. 0. 0. 0. 0. 0. 0. 0. 0.]\n",
            " [0. 1. 0. 0. 0. 0. 0. 0. 0. 0.]\n",
            " [0. 0. 1. 0. 0. 0. 0. 0. 0. 0.]\n",
            " [0. 0. 0. 1. 0. 0. 0. 0. 0. 0.]\n",
            " [0. 0. 0. 0. 1. 0. 0. 0. 0. 0.]\n",
            " [0. 0. 0. 0. 0. 1. 0. 0. 0. 0.]\n",
            " [0. 0. 0. 0. 0. 0. 1. 0. 0. 0.]\n",
            " [0. 0. 0. 0. 0. 0. 0. 1. 0. 0.]\n",
            " [0. 0. 0. 0. 0. 0. 0. 0. 1. 0.]\n",
            " [0. 0. 0. 0. 0. 0. 0. 0. 0. 1.]]\n"
          ]
        }
      ]
    },
    {
      "cell_type": "code",
      "source": [
        "#diagonal angka 8\n",
        "s_10 = 8*o_10\n",
        "print(s_10)"
      ],
      "metadata": {
        "colab": {
          "base_uri": "https://localhost:8080/"
        },
        "id": "YrJk3ycpifW4",
        "outputId": "c12f9803-ca20-46c8-80e1-cb99de099ba2"
      },
      "execution_count": 28,
      "outputs": [
        {
          "output_type": "stream",
          "name": "stdout",
          "text": [
            "[[8. 0. 0. 0. 0. 0. 0. 0. 0. 0.]\n",
            " [0. 8. 0. 0. 0. 0. 0. 0. 0. 0.]\n",
            " [0. 0. 8. 0. 0. 0. 0. 0. 0. 0.]\n",
            " [0. 0. 0. 8. 0. 0. 0. 0. 0. 0.]\n",
            " [0. 0. 0. 0. 8. 0. 0. 0. 0. 0.]\n",
            " [0. 0. 0. 0. 0. 8. 0. 0. 0. 0.]\n",
            " [0. 0. 0. 0. 0. 0. 8. 0. 0. 0.]\n",
            " [0. 0. 0. 0. 0. 0. 0. 8. 0. 0.]\n",
            " [0. 0. 0. 0. 0. 0. 0. 0. 8. 0.]\n",
            " [0. 0. 0. 0. 0. 0. 0. 0. 0. 8.]]\n"
          ]
        }
      ]
    },
    {
      "cell_type": "code",
      "source": [
        "#menginisialisasi array t\n",
        "t_10 = np.array([2,3,5,7,11])\n",
        "print(t_10)"
      ],
      "metadata": {
        "colab": {
          "base_uri": "https://localhost:8080/"
        },
        "id": "IiZAW6xRip9_",
        "outputId": "b1bdcb56-d3e4-4483-d973-5d1acb7ee290"
      },
      "execution_count": 30,
      "outputs": [
        {
          "output_type": "stream",
          "name": "stdout",
          "text": [
            "[ 2  3  5  7 11]\n"
          ]
        }
      ]
    },
    {
      "cell_type": "code",
      "source": [
        " #array s sama dengan t\n",
        "s_10 = t_10\n",
        "print(s_10)"
      ],
      "metadata": {
        "colab": {
          "base_uri": "https://localhost:8080/"
        },
        "id": "K_WD4Ct5jMov",
        "outputId": "73e6277e-3252-450a-e958-e2f035868764"
      },
      "execution_count": 31,
      "outputs": [
        {
          "output_type": "stream",
          "name": "stdout",
          "text": [
            "[ 2  3  5  7 11]\n"
          ]
        }
      ]
    },
    {
      "cell_type": "code",
      "source": [
        "s_10[0] = 100\n",
        "print(s_10)"
      ],
      "metadata": {
        "colab": {
          "base_uri": "https://localhost:8080/"
        },
        "id": "bIrhgLhkjY9_",
        "outputId": "2eaea977-44f8-4cde-dee5-5718d509a9f3"
      },
      "execution_count": 32,
      "outputs": [
        {
          "output_type": "stream",
          "name": "stdout",
          "text": [
            "[100   3   5   7  11]\n"
          ]
        }
      ]
    },
    {
      "cell_type": "code",
      "source": [
        "x_10 = np.array([2,3,5,7,11])\n",
        "print(x_10)"
      ],
      "metadata": {
        "colab": {
          "base_uri": "https://localhost:8080/"
        },
        "id": "GXHsP8rIjga4",
        "outputId": "35be14b4-fabf-4174-d7ad-ee14e2d06324"
      },
      "execution_count": 33,
      "outputs": [
        {
          "output_type": "stream",
          "name": "stdout",
          "text": [
            "[ 2  3  5  7 11]\n"
          ]
        }
      ]
    },
    {
      "cell_type": "code",
      "source": [
        "y_10 = x_10.copy()\n",
        "print(y_10)\n",
        "print()\n",
        "y_10[0] = 84\n",
        "print(y_10)\n",
        "print()\n",
        "print(x_10)"
      ],
      "metadata": {
        "colab": {
          "base_uri": "https://localhost:8080/"
        },
        "id": "I1WDdeyqjpIe",
        "outputId": "0881111c-2797-472e-d2e3-52994e04e1dc"
      },
      "execution_count": 35,
      "outputs": [
        {
          "output_type": "stream",
          "name": "stdout",
          "text": [
            "[ 2  3  5  7 11]\n",
            "\n",
            "[84  3  5  7 11]\n",
            "\n",
            "[ 2  3  5  7 11]\n"
          ]
        }
      ]
    },
    {
      "cell_type": "code",
      "source": [
        "z_10 = np.array([16,18,20,22,24])\n",
        "print(z_10)\n",
        "\n",
        "a_10 = z_10.copy()\n",
        "print(a_10)\n",
        "\n",
        "a_10[0] = 6\n",
        "print(a_10)\n",
        "\n",
        "print(z_10)"
      ],
      "metadata": {
        "colab": {
          "base_uri": "https://localhost:8080/"
        },
        "id": "G_7PyW9MkDZv",
        "outputId": "18f93214-e021-479f-c592-9f88386adbfb"
      },
      "execution_count": 36,
      "outputs": [
        {
          "output_type": "stream",
          "name": "stdout",
          "text": [
            "[16 18 20 22 24]\n",
            "[16 18 20 22 24]\n",
            "[ 6 18 20 22 24]\n",
            "[16 18 20 22 24]\n"
          ]
        }
      ]
    },
    {
      "cell_type": "code",
      "source": [
        "\n",
        "print('Beberapa operasi matematika pada numpy di matriks :')\n",
        "k_10 = np.array([12,14,16,18,20,22,24,26,28])\n",
        "print(k_10)\n",
        "\n",
        "\n",
        "print('Berikut ini hasil dari penjumlahan matriks d ditambah 2: ')\n",
        "print(k_10+3)\n",
        "\n",
        "print('Berikut ini hasil dari pengurangan matriks d dikurang 2: ')\n",
        "print(k_10-3)\n",
        "\n",
        "print('Berikut ini hasil dari perkalian matriks d dikali 2: ')\n",
        "print(k_10*3)\n",
        "\n",
        "print('Berikut ini hasil dari pembagian matriks d dibagi 2: ')\n",
        "print(k_10/3)\n",
        "\n",
        "print('Berikut ini hasil dari matriks d dipangkatkan 2: ')\n",
        "print(k_10**3)"
      ],
      "metadata": {
        "colab": {
          "base_uri": "https://localhost:8080/"
        },
        "id": "0ETjcng8kRPq",
        "outputId": "ea4c2dd1-d048-4731-f396-5a1c16f1e5ef"
      },
      "execution_count": 39,
      "outputs": [
        {
          "output_type": "stream",
          "name": "stdout",
          "text": [
            "Beberapa operasi matematika pada numpy di matriks :\n",
            "[12 14 16 18 20 22 24 26 28]\n",
            "Berikut ini hasil dari penjumlahan matriks d ditambah 2: \n",
            "[15 17 19 21 23 25 27 29 31]\n",
            "Berikut ini hasil dari pengurangan matriks d dikurang 2: \n",
            "[ 9 11 13 15 17 19 21 23 25]\n",
            "Berikut ini hasil dari perkalian matriks d dikali 2: \n",
            "[36 42 48 54 60 66 72 78 84]\n",
            "Berikut ini hasil dari pembagian matriks d dibagi 2: \n",
            "[4.         4.66666667 5.33333333 6.         6.66666667 7.33333333\n",
            " 8.         8.66666667 9.33333333]\n",
            "Berikut ini hasil dari matriks d dipangkatkan 2: \n",
            "[ 1728  2744  4096  5832  8000 10648 13824 17576 21952]\n"
          ]
        }
      ]
    },
    {
      "cell_type": "code",
      "source": [
        "print('matriks yang akan dioperasikan :')\n",
        "print('l')\n",
        "l_10 = np.array([[4,5,6,7],[8,9,10,11]])\n",
        "print(l_10)\n",
        "print('===================================================')\n",
        "print('k')\n",
        "k_10 = np.array([[12,13],[14,15],[16,17],[18,19]])\n",
        "print(k_10)\n",
        "print('===================================================')\n",
        "print('hasil operasi perkalian matriks l dan k adalah:')\n",
        "m_10 = np.matmul(l_10,k_10)\n",
        "print(m_10)"
      ],
      "metadata": {
        "colab": {
          "base_uri": "https://localhost:8080/"
        },
        "id": "Q4_aiM-Yk-Sw",
        "outputId": "25512120-61c9-4751-d3ba-1b5496008834"
      },
      "execution_count": 41,
      "outputs": [
        {
          "output_type": "stream",
          "name": "stdout",
          "text": [
            "matriks yang akan dioperasikan :\n",
            "l\n",
            "[[ 4  5  6  7]\n",
            " [ 8  9 10 11]]\n",
            "===================================================\n",
            "k\n",
            "[[12 13]\n",
            " [14 15]\n",
            " [16 17]\n",
            " [18 19]]\n",
            "===================================================\n",
            "hasil operasi perkalian matriks l dan k adalah:\n",
            "[[340 362]\n",
            " [580 618]]\n"
          ]
        }
      ]
    },
    {
      "cell_type": "code",
      "source": [
        "print('matriks c :')\n",
        "a_10 = np.array([[1,2,4,6],\n",
        "            [8,10,12,14],\n",
        "            [16,18,20,22]])\n",
        "print (a_10)\n",
        "\n",
        "print('nilai minimum elemen pada matriks a adalah:')\n",
        "b_10 = np.min(a_10)\n",
        "print(b_10)\n",
        "\n",
        "print('nilai minimum elemen baris pada masing-masing baris matriks a adalah:')\n",
        "c_10 = np.min(a_10, axis=1)\n",
        "print(c_10)\n",
        "\n",
        "print('nilai minimum elemen kolom pada masing-masing baris matriks a adalah :')\n",
        "d_10 = np.min(a_10, axis=0)\n",
        "print(d_10)\n",
        "\n",
        "print('nilai maksimum elemen pada matriks a adalah :')\n",
        "e_10 = np.max(a_10)\n",
        "print(e_10)\n",
        "\n",
        "print('nilai maksimum elemen baris pada masing-masing baris matriks a adalah :')\n",
        "f_10 = np.max(a_10, axis=1)\n",
        "print(f_10)\n",
        "\n",
        "print('nilai maksimum elemen kolom pada masing-masing baris matriks a adalah  :')\n",
        "i_10 = np.max(a_10, axis=0)\n",
        "print(i_10)\n",
        "\n",
        "print('jumlah nilai semua elemen pada matriks a adalah :')\n",
        "j_10 = np.sum(a_10)\n",
        "print(j_10)\n",
        "\n",
        "print('jumlah nilai elemen pada masing-masing kolom matriks a adalah :')\n",
        "j_10=np.sum(a_10,axis=0)\n",
        "print(j_10)\n",
        "\n",
        "print('jumlah nilai elemen pada masing-masing baris matriks a adalah :')\n",
        "k_10 = np.sum(a_10,axis=1)\n",
        "print(k_10)"
      ],
      "metadata": {
        "colab": {
          "base_uri": "https://localhost:8080/"
        },
        "id": "LCwIPRjvmWaa",
        "outputId": "b1b1e3f5-2109-42e9-b42f-4c42be4e8ffc"
      },
      "execution_count": 44,
      "outputs": [
        {
          "output_type": "stream",
          "name": "stdout",
          "text": [
            "matriks c :\n",
            "[[ 1  2  4  6]\n",
            " [ 8 10 12 14]\n",
            " [16 18 20 22]]\n",
            "nilai minimum elemen pada matriks a adalah:\n",
            "1\n",
            "nilai minimum elemen baris pada masing-masing baris matriks a adalah:\n",
            "[ 1  8 16]\n",
            "nilai minimum elemen kolom pada masing-masing baris matriks a adalah :\n",
            "[1 2 4 6]\n",
            "nilai maksimum elemen pada matriks a adalah :\n",
            "22\n",
            "nilai maksimum elemen baris pada masing-masing baris matriks a adalah :\n",
            "[ 6 14 22]\n",
            "nilai maksimum elemen kolom pada masing-masing baris matriks a adalah  :\n",
            "[16 18 20 22]\n",
            "jumlah nilai semua elemen pada matriks a adalah :\n",
            "133\n",
            "jumlah nilai elemen pada masing-masing kolom matriks a adalah :\n",
            "[25 30 36 42]\n",
            "jumlah nilai elemen pada masing-masing baris matriks a adalah :\n",
            "[13 44 76]\n"
          ]
        }
      ]
    }
  ]
}