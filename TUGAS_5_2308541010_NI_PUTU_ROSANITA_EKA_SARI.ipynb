{
  "cells": [
    {
      "cell_type": "markdown",
      "source": [
        "# 2.15 **Fungsi Range**\n",
        "\n",
        "Fungsi range berguna untuk membangkitkan bilangan berurutan atau berpola yang kita\n",
        "inginkan."
      ],
      "metadata": {
        "id": "6N6qBP61Tsu4"
      }
    },
    {
      "cell_type": "code",
      "source": [
        "angka_10 = range(20)\n",
        "print(angka_10)\n",
        "print(\"===========\")\n",
        "for isi in angka_10:\n",
        "  print(isi)\n",
        "print(\"===========\")\n",
        "for isi in range(5,16):\n",
        "  print(isi)"
      ],
      "metadata": {
        "colab": {
          "base_uri": "https://localhost:8080/"
        },
        "id": "KSsT1klKTKBP",
        "outputId": "e3153dca-a614-4163-d230-6399f80090d5"
      },
      "execution_count": 2,
      "outputs": [
        {
          "output_type": "stream",
          "name": "stdout",
          "text": [
            "range(0, 20)\n",
            "===========\n",
            "0\n",
            "1\n",
            "2\n",
            "3\n",
            "4\n",
            "5\n",
            "6\n",
            "7\n",
            "8\n",
            "9\n",
            "10\n",
            "11\n",
            "12\n",
            "13\n",
            "14\n",
            "15\n",
            "16\n",
            "17\n",
            "18\n",
            "19\n",
            "===========\n",
            "5\n",
            "6\n",
            "7\n",
            "8\n",
            "9\n",
            "10\n",
            "11\n",
            "12\n",
            "13\n",
            "14\n",
            "15\n"
          ]
        }
      ]
    },
    {
      "cell_type": "code",
      "execution_count": null,
      "metadata": {
        "colab": {
          "base_uri": "https://localhost:8080/"
        },
        "id": "BPPXaznqQWr7",
        "outputId": "53a7379b-9954-42c5-c55e-a034b0c6ec87"
      },
      "outputs": [
        {
          "name": "stdout",
          "output_type": "stream",
          "text": [
            "2\n",
            "17\n",
            "32\n",
            "47\n",
            "62\n",
            "77\n",
            "92\n",
            "====\n",
            "0\n",
            "600\n",
            "1200\n",
            "1800\n",
            "2400\n",
            "3000\n",
            "===\n",
            "300\n",
            "460\n",
            "620\n",
            "780\n",
            "940\n",
            "1100\n",
            "1260\n",
            "1420\n",
            "1580\n",
            "1740\n",
            "1900\n",
            "2060\n",
            "2220\n",
            "2380\n",
            "2540\n",
            "2700\n",
            "2860\n",
            "3020\n",
            "3180\n",
            "3340\n",
            "3500\n",
            "3660\n",
            "3820\n",
            "3980\n",
            "4140\n",
            "4300\n",
            "4460\n",
            "4620\n",
            "4780\n",
            "4940\n",
            "5100\n",
            "5260\n",
            "5420\n",
            "5580\n",
            "5740\n",
            "5900\n"
          ]
        }
      ],
      "source": [
        "for isi in range(2,100,15):\n",
        "  print(isi)\n",
        "print(\"====\")\n",
        "for isi in range(0,3600,600):\n",
        "  print(isi)\n",
        "print(\"===\")\n",
        "for isi in range(300,6000,160):\n",
        "  print(isi)"
      ]
    },
    {
      "cell_type": "markdown",
      "source": [
        "Contoh kode untuk mencari data terbesar"
      ],
      "metadata": {
        "id": "Mrsdy5uRVo2o"
      }
    },
    {
      "cell_type": "code",
      "execution_count": null,
      "metadata": {
        "colab": {
          "base_uri": "https://localhost:8080/"
        },
        "id": "EX-EyqHwTY9i",
        "outputId": "48fca8be-c102-494c-cdb3-b8f35d31b13a"
      },
      "outputs": [
        {
          "name": "stdout",
          "output_type": "stream",
          "text": [
            "890\n"
          ]
        }
      ],
      "source": [
        "data_10= (1,2,3,4,5,6,3,4,5,2,6,7,8,9,12,14,54,23,14,23,54,67,98,78,65,43,23,4,56,78,890)\n",
        "terbesar = data_10[0]\n",
        "for angka in data_10:\n",
        "  if angka > terbesar:\n",
        "    terbesar = angka\n",
        "print(terbesar)"
      ]
    },
    {
      "cell_type": "markdown",
      "source": [
        "Contoh kode untuk anggota data menjadi unik"
      ],
      "metadata": {
        "id": "d9YzuoDCVvTu"
      }
    },
    {
      "cell_type": "code",
      "execution_count": null,
      "metadata": {
        "colab": {
          "base_uri": "https://localhost:8080/"
        },
        "id": "T6U2OuDaVARl",
        "outputId": "27387ef6-f92c-4754-e313-180d770b010a"
      },
      "outputs": [
        {
          "name": "stdout",
          "output_type": "stream",
          "text": [
            "[1, 2, 3, 4, 5, 6, 7, 8, 9, 12, 14, 54, 23, 67, 98, 78, 65, 43, 56, 890]\n"
          ]
        }
      ],
      "source": [
        "data_10 = (1,2,3,4,5,6,3,4,5,2,6,7,8,9,12,14,54,23,14,23,54,67,98,78,65,43,23,4,56,78,890)\n",
        "data_10_unik = []\n",
        "for anggota in data_10:\n",
        "  if anggota not in data_10_unik:\n",
        "    data_10_unik.append(anggota)\n",
        "print(data_10_unik)"
      ]
    },
    {
      "cell_type": "code",
      "execution_count": null,
      "metadata": {
        "colab": {
          "base_uri": "https://localhost:8080/"
        },
        "id": "lFvrTG7JaAzo",
        "outputId": "ee19a903-8619-42b0-b691-066407c9576f"
      },
      "outputs": [
        {
          "name": "stdout",
          "output_type": "stream",
          "text": [
            "['mita', 'diva', 'ratih', 'mei', 'rosa', 'nariska', 'kevin', 'chandra', 'dermawan', 'oca']\n"
          ]
        }
      ],
      "source": [
        "data_10 = ('mita','diva','ratih','mei','rosa','rosa','rosa','nariska','diva','mita','ratih','mei','mei','kevin','chandra','dermawan', 'kevin', 'dermawan','oca','rosa')\n",
        "data_10_unik = []\n",
        "for anggota in data_10:\n",
        "  if anggota not in data_10_unik:\n",
        "    data_10_unik.append(anggota)\n",
        "print(data_10_unik)"
      ]
    },
    {
      "cell_type": "markdown",
      "source": [
        "## 2.16 List 2 Dimensi\n",
        "\n",
        "List 2 dimensi pada umumnya adalah menempatkan sebuah list di dalam list."
      ],
      "metadata": {
        "id": "bu--ztNpUW_2"
      }
    },
    {
      "cell_type": "code",
      "execution_count": 4,
      "metadata": {
        "colab": {
          "base_uri": "https://localhost:8080/"
        },
        "id": "rcvbDFfnWDQ3",
        "outputId": "914eccb8-2777-4892-8efe-d3c4393f1967"
      },
      "outputs": [
        {
          "output_type": "stream",
          "name": "stdout",
          "text": [
            "[[2, 4, 6, 8], [3, 6, 9, 12], [4, 8, 12, 16], [5, 10, 15, 20], [6, 12, 18, 24], [7, 14, 21, 28]]\n"
          ]
        }
      ],
      "source": [
        "matrik_10 = [\n",
        "    [2,4,6,8],\n",
        "    [3,6,9,12],\n",
        "    [4,8,12,16],\n",
        "    [5,10,15,20],\n",
        "    [6,12,18,24],\n",
        "    [7,14,21,28],\n",
        "]\n",
        "print(matrik_10)"
      ]
    },
    {
      "cell_type": "code",
      "execution_count": 5,
      "metadata": {
        "colab": {
          "base_uri": "https://localhost:8080/"
        },
        "id": "hYeDRCoXX6mp",
        "outputId": "66d0388b-701e-47ab-dc93-ae3034a3dd0b"
      },
      "outputs": [
        {
          "output_type": "execute_result",
          "data": {
            "text/plain": [
              "[5, 10, 15, 20]"
            ]
          },
          "metadata": {},
          "execution_count": 5
        }
      ],
      "source": [
        "matrik_10[3]"
      ]
    },
    {
      "cell_type": "code",
      "execution_count": 6,
      "metadata": {
        "colab": {
          "base_uri": "https://localhost:8080/"
        },
        "id": "wQZQS6dXXbUa",
        "outputId": "6a4c6e82-909b-4fab-f00e-f1f22bc77251"
      },
      "outputs": [
        {
          "output_type": "execute_result",
          "data": {
            "text/plain": [
              "28"
            ]
          },
          "metadata": {},
          "execution_count": 6
        }
      ],
      "source": [
        "matrik_10[5][3]"
      ]
    },
    {
      "cell_type": "code",
      "source": [
        "matrik_10[1][2]"
      ],
      "metadata": {
        "colab": {
          "base_uri": "https://localhost:8080/"
        },
        "id": "9fOk2s49Uzqy",
        "outputId": "d9f00a1c-b547-4e21-a9dd-2eff696bc831"
      },
      "execution_count": 7,
      "outputs": [
        {
          "output_type": "execute_result",
          "data": {
            "text/plain": [
              "9"
            ]
          },
          "metadata": {},
          "execution_count": 7
        }
      ]
    },
    {
      "cell_type": "code",
      "source": [
        "matrik_10"
      ],
      "metadata": {
        "colab": {
          "base_uri": "https://localhost:8080/"
        },
        "id": "Pv0beNBEVDjF",
        "outputId": "26e906b3-beb9-4043-84ca-18ad8b5e9bc0"
      },
      "execution_count": 8,
      "outputs": [
        {
          "output_type": "execute_result",
          "data": {
            "text/plain": [
              "[[2, 4, 6, 8],\n",
              " [3, 6, 9, 12],\n",
              " [4, 8, 12, 16],\n",
              " [5, 10, 15, 20],\n",
              " [6, 12, 18, 24],\n",
              " [7, 14, 21, 28]]"
            ]
          },
          "metadata": {},
          "execution_count": 8
        }
      ]
    },
    {
      "cell_type": "code",
      "execution_count": null,
      "metadata": {
        "colab": {
          "base_uri": "https://localhost:8080/"
        },
        "id": "fED7p7XGYKC2",
        "outputId": "468d4ab1-9f55-419e-d193-84c3c5f56fb8"
      },
      "outputs": [
        {
          "name": "stdout",
          "output_type": "stream",
          "text": [
            "[2, 4, 6, 8]\n",
            "2\n",
            "4\n",
            "6\n",
            "8\n",
            "[3, 6, 9, 12]\n",
            "3\n",
            "6\n",
            "9\n",
            "12\n",
            "[4, 8, 12, 16]\n",
            "4\n",
            "8\n",
            "12\n",
            "16\n",
            "[5, 10, 15, 20]\n",
            "5\n",
            "10\n",
            "15\n",
            "20\n",
            "[6, 12, 18, 24]\n",
            "6\n",
            "12\n",
            "18\n",
            "24\n",
            "[7, 14, 21, 28]\n",
            "7\n",
            "14\n",
            "21\n",
            "28\n"
          ]
        }
      ],
      "source": [
        "for baris in matrik_10:\n",
        "  print(baris)\n",
        "  for kolom in baris:\n",
        "    print(kolom)"
      ]
    },
    {
      "cell_type": "markdown",
      "source": [
        "## **2.17 Tuples**\n",
        "\n",
        "Tuples mirip dengan list, akan tetapi tuples tidak dapat dirubah isinya. Jika kita memiliki\n",
        "data yang tidak ingin dirubah isinya, kita gunakan tuples, sedangkan jika datanya masih\n",
        "ingin dimanipulasi kedepannya, gunakan list.\n"
      ],
      "metadata": {
        "id": "xHjwR73cVL5W"
      }
    },
    {
      "cell_type": "code",
      "source": [
        "dewa_10 = ('Zeus','Hera','Poseiden','Hermes','Ades','Ares')\n",
        "print(dewa_10)"
      ],
      "metadata": {
        "colab": {
          "base_uri": "https://localhost:8080/"
        },
        "id": "lzVwSB05VYUA",
        "outputId": "24cb32de-8952-4b57-991c-0030b52d2b1c"
      },
      "execution_count": 1,
      "outputs": [
        {
          "output_type": "stream",
          "name": "stdout",
          "text": [
            "('Zeus', 'Hera', 'Poseiden', 'Hermes', 'Ades', 'Ares')\n"
          ]
        }
      ]
    },
    {
      "cell_type": "code",
      "source": [
        "print(dewa_10[0:3])\n",
        "print('----------------------')\n",
        "print(dewa_10[1:4])\n",
        "print('----------------------')\n",
        "print(dewa_10[2:3])\n",
        "print('----------------------')\n",
        "for isi in dewa_10[0:4]:\n",
        "    print(isi)\n",
        "print('==========================')\n",
        "for isi in dewa_10[1:5]:\n",
        "    print(isi)"
      ],
      "metadata": {
        "colab": {
          "base_uri": "https://localhost:8080/"
        },
        "id": "dqe-6t_CdBlX",
        "outputId": "3c336977-daba-458c-dc5a-ea589ec28903"
      },
      "execution_count": 3,
      "outputs": [
        {
          "output_type": "stream",
          "name": "stdout",
          "text": [
            "('Zeus', 'Hera', 'Poseiden')\n",
            "----------------------\n",
            "('Hera', 'Poseiden', 'Hermes')\n",
            "----------------------\n",
            "('Poseiden',)\n",
            "----------------------\n",
            "Zeus\n",
            "Hera\n",
            "Poseiden\n",
            "Hermes\n",
            "==========================\n",
            "Hera\n",
            "Poseiden\n",
            "Hermes\n",
            "Ades\n"
          ]
        }
      ]
    },
    {
      "cell_type": "code",
      "source": [
        "dewa_10.count('Zeus')"
      ],
      "metadata": {
        "colab": {
          "base_uri": "https://localhost:8080/"
        },
        "id": "EhQObJKGdbRG",
        "outputId": "85101caa-e126-40a0-fcab-b033b1be3b41"
      },
      "execution_count": 6,
      "outputs": [
        {
          "output_type": "execute_result",
          "data": {
            "text/plain": [
              "1"
            ]
          },
          "metadata": {},
          "execution_count": 6
        }
      ]
    },
    {
      "cell_type": "code",
      "source": [
        "dewa_10.index('Ades')"
      ],
      "metadata": {
        "colab": {
          "base_uri": "https://localhost:8080/"
        },
        "id": "yMrLcdINdJYi",
        "outputId": "b6152c7b-3252-4c8e-c5b8-41fc4850cdaa"
      },
      "execution_count": 7,
      "outputs": [
        {
          "output_type": "execute_result",
          "data": {
            "text/plain": [
              "4"
            ]
          },
          "metadata": {},
          "execution_count": 7
        }
      ]
    },
    {
      "cell_type": "markdown",
      "source": [
        "### 2.18 Dictionaries\n",
        "\n",
        "Dictionaries digunakan jika data nya terkait satu sama lain."
      ],
      "metadata": {
        "id": "Ojv9RvUKdytL"
      }
    },
    {
      "cell_type": "code",
      "source": [
        "biodata_10 ={\n",
        "    'nama' : \"Rosanita Eka Sari\",\n",
        "    'umur' : 19,\n",
        "    'apakah_pinter?' : True\n",
        "}\n",
        "print(biodata_10['nama'])"
      ],
      "metadata": {
        "colab": {
          "base_uri": "https://localhost:8080/"
        },
        "id": "TwswXoizd5uQ",
        "outputId": "0c84137f-85f8-42b2-d34e-4211f0fcf8c4"
      },
      "execution_count": 8,
      "outputs": [
        {
          "output_type": "stream",
          "name": "stdout",
          "text": [
            "Rosanita Eka Sari\n"
          ]
        }
      ]
    },
    {
      "cell_type": "code",
      "source": [
        "print(biodata_10.get('tanggal_lahir'))\n"
      ],
      "metadata": {
        "colab": {
          "base_uri": "https://localhost:8080/"
        },
        "id": "4eEcvUxQePiL",
        "outputId": "1a65fa6f-8693-4516-e927-dc7ece7124db"
      },
      "execution_count": 9,
      "outputs": [
        {
          "output_type": "stream",
          "name": "stdout",
          "text": [
            "None\n"
          ]
        }
      ]
    },
    {
      "cell_type": "code",
      "source": [
        "print(biodata_10.get('tanggal_lahir', '24-09-2005'))"
      ],
      "metadata": {
        "colab": {
          "base_uri": "https://localhost:8080/"
        },
        "id": "Q7hrxtuieVVA",
        "outputId": "f5e6bdf2-bc1e-41c4-9327-b8a6a284c96c"
      },
      "execution_count": 10,
      "outputs": [
        {
          "output_type": "stream",
          "name": "stdout",
          "text": [
            "24-09-2005\n"
          ]
        }
      ]
    },
    {
      "cell_type": "code",
      "source": [
        "biodata_10['HP'] = '08123456789'\n",
        "print(biodata_10['HP'])"
      ],
      "metadata": {
        "colab": {
          "base_uri": "https://localhost:8080/"
        },
        "id": "mQm5m9UYeif3",
        "outputId": "c54174fd-3243-4525-c410-71affa4b33a7"
      },
      "execution_count": 11,
      "outputs": [
        {
          "output_type": "stream",
          "name": "stdout",
          "text": [
            "08123456789\n"
          ]
        }
      ]
    },
    {
      "cell_type": "code",
      "source": [
        "print(biodata_10)"
      ],
      "metadata": {
        "colab": {
          "base_uri": "https://localhost:8080/"
        },
        "id": "-YZaDGW-enGC",
        "outputId": "3442f954-441a-49b5-8a5c-f0237c22ded3"
      },
      "execution_count": 12,
      "outputs": [
        {
          "output_type": "stream",
          "name": "stdout",
          "text": [
            "{'nama': 'Rosanita Eka Sari', 'umur': 19, 'apakah_pinter?': True, 'HP': '08123456789'}\n"
          ]
        }
      ]
    },
    {
      "cell_type": "code",
      "source": [
        "angka_10 = {\n",
        "    \"0\" : \"nol\",\n",
        "    \"1\" : \"satu\",\n",
        "    \"2\" : \"dua\",\n",
        "    \"3\" : \"tiga\",\n",
        "    \"4\" : \"empat\",\n",
        "    \"5\" : \"lima\",\n",
        "    \"6\" : \"enam\",\n",
        "    \"7\" : \"tujuh\",\n",
        "    \"8\" : \"delapan\",\n",
        "    \"9\" : \"sembilan\"\n",
        "}\n",
        "nomor_phone_10 = input(\"Masukkan nomor HP kamu \")\n",
        "nomor_angka_10 = \"\"\n",
        "for isi in nomor_phone_10:\n",
        "    nomor_angka_10 += angka_10.get(isi) + \" \"\n",
        "print(nomor_angka_10)"
      ],
      "metadata": {
        "colab": {
          "base_uri": "https://localhost:8080/"
        },
        "id": "96Btkqz-fk_N",
        "outputId": "06079196-d30c-47f8-9b6b-bc83739fec33"
      },
      "execution_count": 21,
      "outputs": [
        {
          "output_type": "stream",
          "name": "stdout",
          "text": [
            "Masukkan nomor HP kamu 1313263842\n",
            "satu tiga satu tiga dua enam tiga delapan empat dua \n"
          ]
        }
      ]
    },
    {
      "cell_type": "code",
      "source": [
        "kera_10 = {\n",
        "    'animal': \"Kera\",\n",
        "    'kingdom': \"Animalia\",\n",
        "    'filium': \"Chordata\",\n",
        "    'kelas': \"Mammalia\",\n",
        "    'ordo': \"Primates\"\n",
        "}\n",
        "print(kera_10['animal'])\n",
        "print('==============================================================================')\n",
        "print(kera_10.get('animal'))\n",
        "print('==============================================================================')\n",
        "print(kera_10.get('super_famili'))\n",
        "print('==============================================================================')\n",
        "print(kera_10.get('super_famili', 'Hominoidea'))\n",
        "print('==============================================================================')\n",
        "print(kera_10)\n",
        "print('==============================================================================')\n",
        "print(kera_10)\n",
        ""
      ],
      "metadata": {
        "colab": {
          "base_uri": "https://localhost:8080/"
        },
        "id": "Osz8lBwqg38O",
        "outputId": "3891ca4c-ebf6-4586-d8ce-5f8d73d1fdbf"
      },
      "execution_count": 24,
      "outputs": [
        {
          "output_type": "stream",
          "name": "stdout",
          "text": [
            "Kera\n",
            "==============================================================================\n",
            "Kera\n",
            "==============================================================================\n",
            "None\n",
            "==============================================================================\n",
            "Hominoidea\n",
            "==============================================================================\n",
            "{'animal': 'Kera', 'kingdom': 'Animalia', 'filium': 'Chordata', 'kelas': 'Mammalia', 'ordo': 'Primates'}\n",
            "==============================================================================\n",
            "{'animal': 'Kera', 'kingdom': 'Animalia', 'filium': 'Chordata', 'kelas': 'Mammalia', 'ordo': 'Primates'}\n"
          ]
        }
      ]
    },
    {
      "cell_type": "markdown",
      "source": [
        "## 2.19 Fungsi dalam Python\n",
        "\n",
        "Fungsi dibentuk untuk menghindari pengulangan pembuatan program secara manual. Fungsi juga berguna untuk mempermudah dan meringkas suatu program."
      ],
      "metadata": {
        "id": "y11jlmuojOWv"
      }
    },
    {
      "cell_type": "code",
      "source": [
        "def full_name_10(first_name,middle_name,last_name):\n",
        "    print(f\"Nama lengkap saya adalah {first_name_10} {middle_name_10} {last_name_10}\")\n",
        "first_name_10 = input(\"Nama depan saya adalah \")\n",
        "middle_name_10 = input(\"Nama tengah saya adalah \")\n",
        "last_name_10 = input(\"Nama belakang saya adalah \")\n",
        "full_name_10(first_name_10,middle_name_10,last_name_10)"
      ],
      "metadata": {
        "id": "5SbzBcMujRPN",
        "outputId": "53142619-eda5-4ff6-c761-32d38c65ec7a",
        "colab": {
          "base_uri": "https://localhost:8080/"
        }
      },
      "execution_count": 25,
      "outputs": [
        {
          "output_type": "stream",
          "name": "stdout",
          "text": [
            "Nama depan saya adalah Rosanita\n",
            "Nama tengah saya adalah Eka\n",
            "Nama belakang saya adalah Sari\n",
            "Nama lengkap saya adalah Rosanita Eka Sari\n"
          ]
        }
      ]
    },
    {
      "cell_type": "code",
      "source": [
        "def planet_10(nama_planet,luas_planet):                                                                 #pendefinisian fungsi\n",
        "    print(f\"Nama Planet yaitu {nama_planet_10} , dan luasnya adalah {luas_planet_10}\")\n",
        "nama_planet_10 = input(\"Nama Planet yaitu:  \")\n",
        "luas_planet_10 = input(\"Sedangkan, luas adalah:  \")\n",
        "planet_10(nama_planet_10,luas_planet_10)"
      ],
      "metadata": {
        "id": "OCIyIk5qjxi7",
        "outputId": "c994b21d-fda3-451c-f904-0b5c07d85760",
        "colab": {
          "base_uri": "https://localhost:8080/"
        }
      },
      "execution_count": 26,
      "outputs": [
        {
          "output_type": "stream",
          "name": "stdout",
          "text": [
            "Nama Planet yaitu:  Bumi\n",
            "Sedangkan, luas adalah:  501.10 juta km kuadrat\n",
            "Nama Planet yaitu Bumi , dan luasnya adalah 501.10 juta km kuadrat\n"
          ]
        }
      ]
    },
    {
      "cell_type": "code",
      "source": [
        "def waktu_sampai_10(jarak,kecepatan):\n",
        "    waktu_10 = jarak/kecepatan\n",
        "    print(waktu_10)\n",
        "waktu_sampai_10(80,60)\n",
        "t_10 = waktu_sampai_10(80,60)\n",
        "print(t_10)\n",
        "\n",
        "\n",
        "def waktu_tempuh_10(jarak,kecepatan):\n",
        "    waktu_10 = jarak/kecepatan\n",
        "    return(waktu_10)\n",
        "waktu_tempuh_10(80,60)\n",
        "s_10 = waktu_tempuh_10(80,60)\n",
        "print(s_10)"
      ],
      "metadata": {
        "id": "bT85jZUZkzI-",
        "outputId": "0260313d-39d3-44b4-e660-b776d378af33",
        "colab": {
          "base_uri": "https://localhost:8080/"
        }
      },
      "execution_count": 29,
      "outputs": [
        {
          "output_type": "stream",
          "name": "stdout",
          "text": [
            "1.3333333333333333\n",
            "1.3333333333333333\n",
            "None\n",
            "1.3333333333333333\n"
          ]
        }
      ]
    },
    {
      "cell_type": "code",
      "source": [
        "# Luas Segitiga\n",
        "def luas_segitiga_10(alas, tinggi):\n",
        "    luas = 0.5*alas*tinggi\n",
        "    return luas\n",
        "\n",
        "#  Luas Lingkaran\n",
        "def luas_lingkaran_10(jari_jari):\n",
        "    luas = 3.14*(jari_jari**2)\n",
        "    return luas\n",
        "\n",
        "#  Luas Persegi\n",
        "def luas_persegi_10(sisi):\n",
        "    luas = sisi**2\n",
        "    return luas\n",
        "\n",
        "#  Luas Persegi Panjang\n",
        "def luas_persegi_panjang_10(panjang, lebar):\n",
        "    luas = panjang*lebar\n",
        "    return luas\n",
        ""
      ],
      "metadata": {
        "id": "cKGVJOotlyxh"
      },
      "execution_count": 30,
      "outputs": []
    },
    {
      "cell_type": "code",
      "source": [
        "print(\"Bingung ya dalam menghitung luas suatu bidang, sini aja\")\n",
        "jenis_bidang_10 = input('Masukkan bidang yang ingin kamu hitung dalam huruf capital : ')\n",
        "if jenis_bidang_10.upper() == 'SEGITIGA':\n",
        "    alas = float(input('Masukan alasnya? (dalam cm) '))\n",
        "    tinggi = float(input('Masukan tingginya? (dalam cm) '))\n",
        "    luas = luas_segitiga_10(alas, tinggi)\n",
        "    print(F'Luas {jenis_bidang_10} adalah {luas}')\n",
        "elif jenis_bidang_10.upper() == 'LINGKARAN':\n",
        "    jari_jari = float(input('Masukan jari-jarinya? (dalam cm) '))\n",
        "    luas = luas_lingkaran_10(jari_jari)\n",
        "    print(F'Luas {jenis_bidang_10} adalah {luas}')\n",
        "elif jenis_bidang_10.upper() == 'PERSEGI':\n",
        "    sisi = float(input('Masukan panjang sisinya? (dalam cm) '))\n",
        "    luas = luas_persegi_10 (sisi)\n",
        "    print(F'Luas {jenis_bidang_10} adalah {luas}')\n",
        "elif jenis_bidang_10.upper() == 'PERSEGI PANJANG':\n",
        "    lebar = float(input('Berapakah lebarnya? (dalam cm) '))\n",
        "    panjang = float(input('Berapakah panjangnya? (dalam cm) '))\n",
        "    luas = luas_persegi_panjang_10 (panjang, lebar)\n",
        "    print(F'Luas {jenis_bidang_10} adalah {luas}')\n",
        "else:\n",
        "    print(F'Mohon coba kembali, bidang {jenis_bidang_10} yang anda input tidak tersedia untuk saat ini')\n",
        ""
      ],
      "metadata": {
        "id": "XKxEDk_Ul_Gd",
        "outputId": "14d4d276-db1b-4160-d947-72391adb9b04",
        "colab": {
          "base_uri": "https://localhost:8080/"
        }
      },
      "execution_count": 35,
      "outputs": [
        {
          "output_type": "stream",
          "name": "stdout",
          "text": [
            "Bingung ya dalam menghitung luas suatu bidang, sini aja\n",
            "Masukkan bidang yang ingin kamu hitung dalam huruf capital : SEGITIGA\n",
            "Masukan alasnya? (dalam cm) 12\n",
            "Masukan tingginya? (dalam cm) 6\n",
            "Luas SEGITIGA adalah 36.0\n"
          ]
        }
      ]
    }
  ],
  "metadata": {
    "colab": {
      "provenance": []
    },
    "kernelspec": {
      "display_name": "Python 3",
      "name": "python3"
    },
    "language_info": {
      "name": "python"
    }
  },
  "nbformat": 4,
  "nbformat_minor": 0
}