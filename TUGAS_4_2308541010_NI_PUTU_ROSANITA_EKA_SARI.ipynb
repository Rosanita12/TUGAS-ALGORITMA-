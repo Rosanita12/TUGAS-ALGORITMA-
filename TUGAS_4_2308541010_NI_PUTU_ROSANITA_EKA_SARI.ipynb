{
  "nbformat": 4,
  "nbformat_minor": 0,
  "metadata": {
    "colab": {
      "provenance": []
    },
    "kernelspec": {
      "name": "python3",
      "display_name": "Python 3"
    },
    "language_info": {
      "name": "python"
    }
  },
  "cells": [
    {
      "cell_type": "code",
      "execution_count": null,
      "metadata": {
        "colab": {
          "base_uri": "https://localhost:8080/"
        },
        "id": "6Yn3rP7W-WVh",
        "outputId": "8b3c5ab8-c386-467b-c1a6-3359320a278d"
      },
      "outputs": [
        {
          "output_type": "stream",
          "name": "stdout",
          "text": [
            "['Merkurius', 'Venus', 'Bumi', 'Mars', 'Jupiter', 'Saturnus', 'Uranus', 'Neptunus']\n"
          ]
        }
      ],
      "source": [
        "planet_10 = ['Merkurius','Venus','Bumi', 'Mars', 'Jupiter', 'Saturnus','Uranus','Neptunus']\n",
        "print(planet_10)"
      ]
    },
    {
      "cell_type": "code",
      "source": [
        "print(planet_10[0])\n",
        "print(planet_10[5])\n",
        "print(planet_10[-2])\n",
        "print(planet_10[-6])"
      ],
      "metadata": {
        "colab": {
          "base_uri": "https://localhost:8080/"
        },
        "id": "d6exJYkuCGCf",
        "outputId": "ded83308-57d7-4241-d059-9225a96ee1dc"
      },
      "execution_count": null,
      "outputs": [
        {
          "output_type": "stream",
          "name": "stdout",
          "text": [
            "Merkurius\n",
            "Saturnus\n",
            "Uranus\n",
            "Bumi\n"
          ]
        }
      ]
    },
    {
      "cell_type": "code",
      "source": [
        "planet_10[-1]='pluto'\n",
        "print(planet_10)\n",
        "print(planet_10[0:5])\n",
        "#tidak merubah list\n",
        "print(planet_10)"
      ],
      "metadata": {
        "colab": {
          "base_uri": "https://localhost:8080/"
        },
        "id": "k50oIJlCJ16w",
        "outputId": "1d474cdc-913b-4f63-99e2-bf174241c5b1"
      },
      "execution_count": null,
      "outputs": [
        {
          "output_type": "stream",
          "name": "stdout",
          "text": [
            "['Merkurius', 'Venus', 'Bumi', 'Mars', 'Jupiter', 'Saturnus', 'Uranus', 'pluto']\n",
            "['Merkurius', 'Venus', 'Bumi', 'Mars', 'Jupiter']\n",
            "['Merkurius', 'Venus', 'Bumi', 'Mars', 'Jupiter', 'Saturnus', 'Uranus', 'pluto']\n"
          ]
        }
      ]
    },
    {
      "cell_type": "code",
      "source": [
        "titan_10 = ['Godzilla', 'King Kong', 'Skar King', 'Shimo', 'Suko', 'Motra', 'Scylla']\n",
        "print(titan_10[2:4])\n",
        "print(titan_10[0:-1])\n",
        "print(titan_10[0:2])\n",
        "print(titan_10[3:5])\n",
        "print(titan_10[4:7])\n",
        "print(titan_10[6:8])\n",
        "print(titan_10[-5])\n",
        "print(titan_10[1])\n",
        "print(titan_10[0:2])"
      ],
      "metadata": {
        "colab": {
          "base_uri": "https://localhost:8080/"
        },
        "id": "dvcrpUriT3Pw",
        "outputId": "a7f3f594-cb86-4c16-92b6-7fda9f564798"
      },
      "execution_count": null,
      "outputs": [
        {
          "output_type": "stream",
          "name": "stdout",
          "text": [
            "['Skar King', 'Shimo']\n",
            "['Godzilla', 'King Kong', 'Skar King', 'Shimo', 'Suko', 'Motra']\n",
            "['Godzilla', 'King Kong']\n",
            "['Shimo', 'Suko']\n",
            "['Suko', 'Motra', 'Scylla']\n",
            "['Scylla']\n",
            "Skar King\n",
            "King Kong\n",
            "['Godzilla', 'King Kong']\n"
          ]
        }
      ]
    },
    {
      "cell_type": "code",
      "source": [
        "zodiak_10 = ['Aries','Taurus','Gemini','Cancer','Leo','Virgo','Libra','Scorpio','Sagitarius','Capricon','Aquarius','Pisces']\n",
        "zodiak_10.insert(7,'Ophiuchus')\n",
        "print(zodiak_10)"
      ],
      "metadata": {
        "colab": {
          "base_uri": "https://localhost:8080/"
        },
        "id": "ncXkBuKZMQ5p",
        "outputId": "c49b45aa-65f8-40a3-c25e-fe57684f7557"
      },
      "execution_count": 25,
      "outputs": [
        {
          "output_type": "stream",
          "name": "stdout",
          "text": [
            "['Aries', 'Taurus', 'Gemini', 'Cancer', 'Leo', 'Virgo', 'Libra', 'Ophiuchus', 'Scorpio', 'Sagitarius', 'Capricon', 'Aquarius', 'Pisces']\n"
          ]
        }
      ]
    },
    {
      "cell_type": "code",
      "source": [
        "zodiak_10.remove('Scorpio')\n",
        "print(zodiak_10)\n",
        "print(\"=====\")\n",
        "print('Scorpio' in zodiak_10)\n",
        "print(\"=====\")\n",
        "print('Libra' in zodiak_10)\n",
        "print(\"=====\")\n",
        "print(len(zodiak_10))\n",
        "print(\"=====\")"
      ],
      "metadata": {
        "colab": {
          "base_uri": "https://localhost:8080/"
        },
        "id": "l9aHsPkKNdGW",
        "outputId": "d17efb32-0bae-4468-91de-1df0e33810a0"
      },
      "execution_count": 26,
      "outputs": [
        {
          "output_type": "stream",
          "name": "stdout",
          "text": [
            "['Aries', 'Taurus', 'Gemini', 'Cancer', 'Leo', 'Virgo', 'Libra', 'Ophiuchus', 'Sagitarius', 'Capricon', 'Aquarius', 'Pisces']\n",
            "=====\n",
            "False\n",
            "=====\n",
            "True\n",
            "=====\n",
            "12\n",
            "=====\n"
          ]
        }
      ]
    },
    {
      "cell_type": "code",
      "source": [
        "dino_10 = ['T-Rex (Tyrannosaurus Rex)', 'Stegosaurus', 'Brontosaurus', 'Triceratops','Velociraptor','Dilophosaurus','Ankylosaurus','Pterodactyl']\n",
        "for jenis in dino_10:\n",
        "  print(jenis)"
      ],
      "metadata": {
        "colab": {
          "base_uri": "https://localhost:8080/"
        },
        "id": "o1PXnTvzReze",
        "outputId": "b19c5285-13fb-436f-bbfc-fa58886db8c2"
      },
      "execution_count": null,
      "outputs": [
        {
          "output_type": "stream",
          "name": "stdout",
          "text": [
            "T-Rex (Tyrannosaurus Rex)\n",
            "Stegosaurus\n",
            "Brontosaurus\n",
            "Triceratops\n",
            "Velociraptor\n",
            "Dilophosaurus\n",
            "Ankylosaurus\n",
            "Pterodactyl\n"
          ]
        }
      ]
    },
    {
      "cell_type": "code",
      "source": [
        "i = 0\n",
        "while i < len(dino_10):\n",
        "  print(dino_10[i])\n",
        "  i+=1"
      ],
      "metadata": {
        "colab": {
          "base_uri": "https://localhost:8080/"
        },
        "id": "cs4Fn2e-Sz0W",
        "outputId": "b0677adf-4e16-43ad-ba2c-046db915c3af"
      },
      "execution_count": null,
      "outputs": [
        {
          "output_type": "stream",
          "name": "stdout",
          "text": [
            "T-Rex (Tyrannosaurus Rex)\n",
            "Stegosaurus\n",
            "Brontosaurus\n",
            "Triceratops\n",
            "Velociraptor\n",
            "Dilophosaurus\n",
            "Ankylosaurus\n",
            "Pterodactyl\n"
          ]
        }
      ]
    },
    {
      "cell_type": "code",
      "source": [
        "i = 1\n",
        "while i < len(dino_10):\n",
        "  print(dino_10[i])\n",
        "  i+=2"
      ],
      "metadata": {
        "colab": {
          "base_uri": "https://localhost:8080/"
        },
        "id": "FUzd25Z4TwzO",
        "outputId": "e545f8a0-cb6c-434c-86ba-6f18886838c3"
      },
      "execution_count": null,
      "outputs": [
        {
          "output_type": "stream",
          "name": "stdout",
          "text": [
            "Stegosaurus\n",
            "Triceratops\n",
            "Dilophosaurus\n",
            "Pterodactyl\n"
          ]
        }
      ]
    },
    {
      "cell_type": "code",
      "source": [
        "i = 4\n",
        "while i < len(dino_10):\n",
        "  print(dino_10[i])\n",
        "  i+=2"
      ],
      "metadata": {
        "colab": {
          "base_uri": "https://localhost:8080/"
        },
        "id": "WtJ8hPWLYfka",
        "outputId": "55180695-c16a-416a-8827-f55eb918da9b"
      },
      "execution_count": null,
      "outputs": [
        {
          "output_type": "stream",
          "name": "stdout",
          "text": [
            "Velociraptor\n",
            "Ankylosaurus\n"
          ]
        }
      ]
    },
    {
      "cell_type": "code",
      "source": [
        "print(\"===============\")\n",
        "galaksi_10 = ['Bimasakti','Andromeda','The Rose', 'Sculptor','Black Eye', 'Blue Pinwhell','Cartwheel','Sunflower', 'Ursa Mayor','M51','Maggelan']\n",
        "for g in galaksi_10:\n",
        "  print(g)\n",
        "print(\"===============\")\n",
        "i = 3\n",
        "while i < len(galaksi_10):\n",
        "  print(galaksi_10[i])\n",
        "  i+=2\n",
        "print(\"==============\")\n",
        "i = 2\n",
        "while i < len(galaksi_10):\n",
        "  print(galaksi_10[i])\n",
        "  i+=4\n",
        "print(\"==============\")\n",
        "i = 3\n",
        "while i < len(galaksi_10):\n",
        "  print(galaksi_10[i])\n",
        "  i+=6\n",
        "print(\"==============\")\n",
        "i = 4\n",
        "while i < len(galaksi_10):\n",
        "  print(galaksi_10[i])\n",
        "  i+=8\n",
        "print(\"==============\")\n",
        "i = 5\n",
        "while i < len(galaksi_10):\n",
        "  print(galaksi_10[i])\n",
        "  i+=3"
      ],
      "metadata": {
        "colab": {
          "base_uri": "https://localhost:8080/"
        },
        "id": "zXFp3Qs7ZELX",
        "outputId": "0c0134c4-4b60-427c-f712-de2a550acc5b"
      },
      "execution_count": 23,
      "outputs": [
        {
          "output_type": "stream",
          "name": "stdout",
          "text": [
            "===============\n",
            "Bimasakti\n",
            "Andromeda\n",
            "The Rose\n",
            "Sculptor\n",
            "Black Eye\n",
            "Blue Pinwhell\n",
            "Cartwheel\n",
            "Sunflower\n",
            "Ursa Mayor\n",
            "M51\n",
            "Maggelan\n",
            "===============\n",
            "Sculptor\n",
            "Blue Pinwhell\n",
            "Sunflower\n",
            "M51\n",
            "==============\n",
            "The Rose\n",
            "Cartwheel\n",
            "Maggelan\n",
            "==============\n",
            "Sculptor\n",
            "M51\n",
            "==============\n",
            "Black Eye\n",
            "==============\n",
            "Blue Pinwhell\n",
            "Ursa Mayor\n"
          ]
        }
      ]
    },
    {
      "cell_type": "code",
      "source": [
        "tanah_10 = ['Aluvial','Andosol','Regosol','Latosol','Laterit','Litosol','Grumosol','Organosol','Mediteran', 'Rendzina','Podzolik','Podzolik Merah Kuning']\n",
        "for t in tanah_10:\n",
        "  print(t)"
      ],
      "metadata": {
        "id": "RUc82DhQyqCa",
        "colab": {
          "base_uri": "https://localhost:8080/"
        },
        "outputId": "c5382af5-b7a9-4873-9135-10f4029a2e4a"
      },
      "execution_count": 4,
      "outputs": [
        {
          "output_type": "stream",
          "name": "stdout",
          "text": [
            "Aluvial\n",
            "Andosol\n",
            "Regosol\n",
            "Latosol\n",
            "Laterit\n",
            "Litosol\n",
            "Grumosol\n",
            "Organosol\n",
            "Mediteran\n",
            "Rendzina\n",
            "Podzolik\n",
            "Podzolik Merah Kuning\n"
          ]
        }
      ]
    },
    {
      "cell_type": "code",
      "source": [
        "i = 6\n",
        "while i < len(tanah_10):\n",
        "  print(tanah_10[i])\n",
        "  i+=3"
      ],
      "metadata": {
        "colab": {
          "base_uri": "https://localhost:8080/"
        },
        "id": "BOFvQb2Xy0sc",
        "outputId": "e5bac240-92da-4a2f-8704-6c4d9566f9f9"
      },
      "execution_count": 6,
      "outputs": [
        {
          "output_type": "stream",
          "name": "stdout",
          "text": [
            "Grumosol\n",
            "Rendzina\n"
          ]
        }
      ]
    },
    {
      "cell_type": "code",
      "source": [
        "i = 3\n",
        "while i < len(tanah_10):\n",
        "  print(tanah_10[i])\n",
        "  i+=2"
      ],
      "metadata": {
        "colab": {
          "base_uri": "https://localhost:8080/"
        },
        "id": "h1dEUrQ4zRvn",
        "outputId": "4fd910f9-f389-457a-82f8-ce6dae18bf09"
      },
      "execution_count": 9,
      "outputs": [
        {
          "output_type": "stream",
          "name": "stdout",
          "text": [
            "Latosol\n",
            "Litosol\n",
            "Organosol\n",
            "Rendzina\n",
            "Podzolik Merah Kuning\n"
          ]
        }
      ]
    },
    {
      "cell_type": "code",
      "source": [
        "i = 1\n",
        "while i < len(tanah_10):\n",
        "  print(tanah_10[i])\n",
        "  i+=4"
      ],
      "metadata": {
        "colab": {
          "base_uri": "https://localhost:8080/"
        },
        "id": "MJtGbVJzzkwm",
        "outputId": "98a21acb-0a6d-449b-b914-c088259bb899"
      },
      "execution_count": 10,
      "outputs": [
        {
          "output_type": "stream",
          "name": "stdout",
          "text": [
            "Andosol\n",
            "Litosol\n",
            "Rendzina\n"
          ]
        }
      ]
    }
  ]
}