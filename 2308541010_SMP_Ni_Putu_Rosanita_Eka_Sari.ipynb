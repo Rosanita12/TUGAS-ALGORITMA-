{
  "nbformat": 4,
  "nbformat_minor": 0,
  "metadata": {
    "colab": {
      "provenance": []
    },
    "kernelspec": {
      "name": "python3",
      "display_name": "Python 3"
    },
    "language_info": {
      "name": "python"
    }
  },
  "cells": [
    {
      "cell_type": "markdown",
      "source": [
        "HALLO WELCOME TO KELAS ALGORITMA. Jadi kita dapet kasus nih,untuk kasus liat dibawah aja ya, yuk buat programnya\n",
        "1. Pertama tama kita mendapati untuk mengetahui x memenuhi x**2+x-1=0.\n",
        "2. Lalu kita pindahkan ruas salah satu x, menjadi x**2=1-x\n",
        "3. Kita akan menentukan nilai n yang memenuhi x*2024-x2025 = (x(1-x))*n\n",
        "4. Karena kita menghitung secara manual maka kita mendapatkan nilai x yaitu\n",
        "- x_1 = (-1 + np.sqrt(5)) / 2\n",
        "- x_2 = (-1 - np.sqrt(5)) / 2\n",
        "\n"
      ],
      "metadata": {
        "id": "v-whcmrbtDx1"
      }
    },
    {
      "cell_type": "code",
      "source": [
        "print('Pertama tama kita akan menghitung nilai n jika x = (-1 + np.sqrt(5))')\n",
        "\n",
        "# 1. Langkah pertama yaitu kita mengImport library\n",
        "import numpy as np\n",
        "# 2. Lalu inputlah nilai x\n",
        "x_10 = (-1 + np.sqrt(5)) / 2\n",
        "# 3. Selanjutnya kita akan menghitung ruas kiri (lhs) dari persamaan x*2024 - x2025 = (x(1-x))*n dengan menggunakan logaritma, masi inget logaritma kan?\n",
        "lhs_10 = 2024 * np.log(x_10) + np.log(1 - x_10)\n",
        "# 4. Setelah ruas kiri, lalu ruas apa? iya betul kita akan menghitung ruas kanan (rsh) dari persamaan x*2024 - x2025 = (x(1-x))*n\n",
        "rhs_10 = x_10 * (1 - x_10)\n",
        "# 5. Nah habis hitung ruas kanan dan ruas kiri tentunya kita akan menghitung nilai n\n",
        "n_10 = lhs_10 / np.log(np.abs(rhs_10))\n",
        "# 6. Karna diatas adalah program mencari nilai n atau menghitung niai n, terakhit yaitu program untuk menampilkan hasil dari kode-kode kita diatas\n",
        "print(f\"Jadi kita dapatkan untuk nilai n yang akan memenuhi jika x = (-1 + np.sqrt(5)) adalah nilai: {n_10}\")\n",
        "\n",
        "print('Karna Program sudah selesai jangan lupa bilang apa? IYAAAA BETULL!!! Terima Kasih')"
      ],
      "metadata": {
        "colab": {
          "base_uri": "https://localhost:8080/"
        },
        "id": "9Y7NTWAJtxV-",
        "outputId": "ddd9a9d9-e809-4067-a731-5471aa4ffd74"
      },
      "execution_count": 1,
      "outputs": [
        {
          "output_type": "stream",
          "name": "stdout",
          "text": [
            "Pertama tama kita akan menghitung nilai n jika x = (-1 + np.sqrt(5))\n",
            "Jadi kita dapatkan untuk nilai n yang akan memenuhi jika x = (-1 + np.sqrt(5)) adalah nilai: 675.3333333333333\n",
            "Karna Program sudah selesai jangan lupa bilang apa? IYAAAA BETULL!!! Terima Kasih\n"
          ]
        }
      ]
    },
    {
      "cell_type": "markdown",
      "source": [
        "Karena ternyata tidak bisa dalam satu sell, selanjutnya kita buat dalam sell yang lain untuk x selanjuutnya"
      ],
      "metadata": {
        "id": "ZxJkiiYPvaJp"
      }
    },
    {
      "cell_type": "code",
      "source": [
        "import numpy as np\n",
        "# Menghitung nilai x\n",
        "x_10 = (-1 - np.sqrt(5)) / 2\n",
        "# Selanjutnya kita akan menghitung ruas kiri (lhs) dengan menggunakan logaritma, iya kaya kode yang tadi\n",
        "lhs_10 = 2024 * np.log(np.abs(x_10)) + np.log(np.abs(1 - x_10))\n",
        "# Setelah ruas kiri, lalu ruas apa? iya betul kita akan menghitung ruas kanan (rsh)\n",
        "rhs_10 = np.abs(x_10 * (1 - x_10))\n",
        "# Nah habis hitung ruas kanan dan ruas kiri tentunya kita akan menghitung nilai n, lalu jangan lupa print untuk menampilkan hasil, biar kode kita engga sia-sia\n",
        "n_10 = lhs_10 / np.log(np.abs(rhs_10))\n",
        "print(f\"Maka kita akan dapat nilai n yaitu sebesar: {n_10}\")"
      ],
      "metadata": {
        "colab": {
          "base_uri": "https://localhost:8080/"
        },
        "id": "Y075Z2uIvZnQ",
        "outputId": "d0cbc572-cc85-4e20-ec5e-2ae4e8140930"
      },
      "execution_count": 3,
      "outputs": [
        {
          "output_type": "stream",
          "name": "stdout",
          "text": [
            "Maka kita akan dapat nilai n yaitu sebesar: 675.3333333333335\n"
          ]
        }
      ]
    },
    {
      "cell_type": "markdown",
      "source": [
        "Kode selanjutnya adalah kode kita menghitung nilai n yang memenuhi x*2024-x2025 = (x(1-x))*n\n",
        "1. Pertama tama kita mendapati bahwa x memenuhi x**2+x-1=0.\n",
        "2. Lalu kita dapat x**2=1-x karena x yang lagi satu pindah ruas\n",
        "3. kita ngapain sih? iya disini kita akan mentukan nilai n yang memenuhi x*2024-x2025 = (x(1-x))*n\n",
        "4. Setelah menghitung secara manual akan di dapat nilai x yaitu\n",
        "- x1 = (-1 + np.sqrt(5)) / 2\n",
        "- x2 = (-1 - np.sqrt(5)) / 2"
      ],
      "metadata": {
        "id": "1Fz0pTQJw9f9"
      }
    },
    {
      "cell_type": "code",
      "source": [
        "#Langkah pertama yaitu kita mengImport library\n",
        "import numpy as np\n",
        "# Llu akan mendefiniskan fungsi untuk menghitung nilai n, gimana caranya? liat aja kodeku\n",
        "def menghitung_n_10(x_10):\n",
        "  # Selanjutnya kita akan menghitung ruas kiri (lhs) dari persamaan x*2024 - x2025 = (x(1-x))*n\n",
        "  lhs_10 = 2024 * np.log(np.abs(x_10)) + np.log(np.abs(1 - x_10))\n",
        "  # Setelah ruas kiri, lalu ruas apa? iya betul kita akan menghitung ruas kanan (rsh) dari persamaan x*2024 - x2025 = (x(1-x))*n\n",
        "  rhs_10 = np.abs(x_10 * (1 - x_10))\n",
        "  # Nah habis hitung ruas kanan dan ruas kiri tentunya kita akan menghitung nilai n\n",
        "  n_10 = lhs_10 / np.log(np.abs(rhs_10))\n",
        "  return n_10\n",
        "# Input nilai x, ya masukin aja\n",
        "print('x1 = (-1 + np.sqrt(5)) / 2')\n",
        "print('x2 = (-1 - np.sqrt(5)) / 2 ')\n",
        "nilai_x_10 = input('Input nilai x1 atau x2:')\n",
        "if nilai_x_10 == 'x1':\n",
        "  x_10 = (-1 + np.sqrt(5)) / 2\n",
        "  n_10 = menghitung_n_10(x_10)\n",
        "  print(f\"Jadi kita dapat untuk nilai n yang memenuhi jika x = (-1 + np.sqrt(5)) / 2 adalah: {n_10}\")\n",
        "elif nilai_x_10 == 'x2':\n",
        "  x_10 = (-1 - np.sqrt(5)) / 2\n",
        "  n_10 = menghitung_n_10(x_10)\n",
        "  print(f\"Jadi kita dapat untuk nilai n yang memenuhi jika x2 = (-1 - np.sqrt(5)) / 2 adalah: {n_10}\")\n",
        "else:\n",
        "  print(\"nilai x tidak sesuai, iya tidak sesuai\")\n",
        "\n",
        "# Menunjukkan hasil\n",
        "print(f\"Jadi kita dapat untuk nilai n yang memenuhi x = {nilai_x_10} adalah: {n_10}\")\n",
        "print('Karna Program sudah selesai jangan lupa bilang apa? IYAAAA BETULL!!! Terima Kasih')"
      ],
      "metadata": {
        "colab": {
          "base_uri": "https://localhost:8080/"
        },
        "id": "BHpNqerUw9EK",
        "outputId": "6e26ff97-bf64-40d4-f130-7dca7b2c0f5d"
      },
      "execution_count": 5,
      "outputs": [
        {
          "output_type": "stream",
          "name": "stdout",
          "text": [
            "x1 = (-1 + np.sqrt(5)) / 2\n",
            "x2 = (-1 - np.sqrt(5)) / 2 \n",
            "Input nilai x1 atau x2:1\n",
            "nilai x tidak sesuai, iya tidak sesuai\n",
            "Jadi kita dapat untuk nilai n yang memenuhi x = 1 adalah: 675.3333333333335\n",
            "Karna Program sudah selesai jangan lupa bilang apa? IYAAAA BETULL!!! Terima Kasih\n"
          ]
        }
      ]
    }
  ]
}