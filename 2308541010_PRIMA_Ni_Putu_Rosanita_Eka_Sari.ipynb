{
  "nbformat": 4,
  "nbformat_minor": 0,
  "metadata": {
    "colab": {
      "provenance": []
    },
    "kernelspec": {
      "name": "python3",
      "display_name": "Python 3"
    },
    "language_info": {
      "name": "python"
    }
  },
  "cells": [
    {
      "cell_type": "markdown",
      "source": [
        "JADI KITA AKAN MEMBUAT PROGRAM UNTUK MENENTUKAN BILANGAN PRIMA\n",
        "\n",
        "NA kemarin dosen udah ngasi kita soal kan yaitu jika diketahui n adalah dua digit terakhir dari NIM kalian, maka tentukan biangan prima antara 1000*n sampai 1000*(n+1).\n",
        "\n",
        "Dua digit terakhir dari NIM saya adalah 10\n",
        "\n",
        "Sehingga Rangenya adalah 1000*n - 1000*(n+1)"
      ],
      "metadata": {
        "id": "WUKrbPixiDyT"
      }
    },
    {
      "cell_type": "code",
      "execution_count": 3,
      "metadata": {
        "colab": {
          "base_uri": "https://localhost:8080/"
        },
        "id": "WCBBUZ3WhazL",
        "outputId": "e5f4c511-b6c4-440a-99ad-f79a34a5864f"
      },
      "outputs": [
        {
          "output_type": "stream",
          "name": "stdout",
          "text": [
            "Jadi bilangan prima dari range 10000 sampai 11000 adalah: [10007, 10009, 10037, 10039, 10061, 10067, 10069, 10079, 10091, 10093, 10099, 10103, 10111, 10133, 10139, 10141, 10151, 10159, 10163, 10169, 10177, 10181, 10193, 10211, 10223, 10243, 10247, 10253, 10259, 10267, 10271, 10273, 10289, 10301, 10303, 10313, 10321, 10331, 10333, 10337, 10343, 10357, 10369, 10391, 10399, 10427, 10429, 10433, 10453, 10457, 10459, 10463, 10477, 10487, 10499, 10501, 10513, 10529, 10531, 10559, 10567, 10589, 10597, 10601, 10607, 10613, 10627, 10631, 10639, 10651, 10657, 10663, 10667, 10687, 10691, 10709, 10711, 10723, 10729, 10733, 10739, 10753, 10771, 10781, 10789, 10799, 10831, 10837, 10847, 10853, 10859, 10861, 10867, 10883, 10889, 10891, 10903, 10909, 10937, 10939, 10949, 10957, 10973, 10979, 10987, 10993]\n",
            "Sekian,Terima Kasih\n"
          ]
        }
      ],
      "source": [
        "# Pertama tama tentunya kita Import Library sesuai sama modul\n",
        "import math\n",
        "# Kedua sesuai sama yang diberikan langkah\" sama dosen kita kita akan mendefinikan fungsi untuk memesiksa suatu angka merupakan bilangan prima\n",
        "def bilangan_prima(r_10):\n",
        "    if r_10 <= 1:\n",
        "        return False\n",
        "    if r_10 <= 3:\n",
        "        return True\n",
        "    if r_10 % 2 == 0 or r_10 % 3 == 0:\n",
        "        return False\n",
        "    i = 5\n",
        "    while i * i <= r_10:\n",
        "        if r_10 % i == 0 or r_10 % (i + 2) == 0:\n",
        "            return False\n",
        "        i += 6\n",
        "    return True\n",
        "# Ketiga kita akan mendefinikan range dan fungsi untuk menemukan bilangan prima dengan range 1000*n - 1000*(n+1)\n",
        "def find_prima_in_range(s_10):\n",
        "    lower_bound = 1000 * s_10        # Nah ini itu untuk menghitung batas atas dan batas bawah dari range\n",
        "    upper_bound = 1000 * (s_10 + 1)\n",
        "    prima = []\n",
        "    for r_10 in range(lower_bound, upper_bound):\n",
        "        if bilangan_prima(r_10):\n",
        "            prima.append(r_10)\n",
        "    return prima\n",
        "\n",
        "# Selanjutnya menentukan nilai n = 10\n",
        "s_10 = int('10')\n",
        "# Diatas itu kita mengubah '10' menjadi integer 10\n",
        "# Kita akan menemukan bilangan prima dalam range untuk nilai n = 10\n",
        "prima = find_prima_in_range(s_10)\n",
        "# Terakhir apa iya benar kita akan menampilkan hasil atau outputnya\n",
        "print(f\"Jadi bilangan prima dari range {1000*s_10} sampai {1000*(s_10 + 1)} adalah: {prima}\")\n",
        "\n",
        "print(\"Sekian,Terima Kasih\")"
      ]
    }
  ]
}